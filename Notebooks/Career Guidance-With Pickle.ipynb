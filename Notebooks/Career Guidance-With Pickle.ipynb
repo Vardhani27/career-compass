{
 "cells": [
  {
   "cell_type": "markdown",
   "metadata": {
    "papermill": {
     "duration": 0.042551,
     "end_time": "2020-10-23T17:08:52.638595",
     "exception": false,
     "start_time": "2020-10-23T17:08:52.596044",
     "status": "completed"
    },
    "tags": []
   },
   "source": [
    "\n"
   ]
  },
  {
   "cell_type": "code",
   "execution_count": 22,
   "metadata": {
    "_cell_guid": "b1076dfc-b9ad-4769-8c92-a6c4dae69d19",
    "_uuid": "8f2839f25d086af736a60e9eeb907d3b93b6e0e5",
    "execution": {
     "iopub.execute_input": "2020-10-23T17:08:52.729200Z",
     "iopub.status.busy": "2020-10-23T17:08:52.728268Z",
     "iopub.status.idle": "2020-10-23T17:08:53.853985Z",
     "shell.execute_reply": "2020-10-23T17:08:53.853080Z"
    },
    "papermill": {
     "duration": 1.174266,
     "end_time": "2020-10-23T17:08:53.854149",
     "exception": false,
     "start_time": "2020-10-23T17:08:52.679883",
     "status": "completed"
    },
    "tags": []
   },
   "outputs": [],
   "source": [
    "import numpy as np \n",
    "import pandas as pd \n",
    "import matplotlib.pyplot as plt \n",
    "import seaborn as sns \n",
    "%matplotlib inline"
   ]
  },
  {
   "cell_type": "code",
   "execution_count": 23,
   "metadata": {
    "_cell_guid": "79c7e3d0-c299-4dcb-8224-4455121ee9b0",
    "_uuid": "d629ff2d2480ee46fbb7e2d37f6b5fab8052498a",
    "execution": {
     "iopub.execute_input": "2020-10-23T17:08:53.947434Z",
     "iopub.status.busy": "2020-10-23T17:08:53.946661Z",
     "iopub.status.idle": "2020-10-23T17:08:53.963727Z",
     "shell.execute_reply": "2020-10-23T17:08:53.962879Z"
    },
    "papermill": {
     "duration": 0.068216,
     "end_time": "2020-10-23T17:08:53.963864",
     "exception": false,
     "start_time": "2020-10-23T17:08:53.895648",
     "status": "completed"
    },
    "tags": []
   },
   "outputs": [],
   "source": [
    "df = pd.read_csv('dataset9000.csv', sep=',')"
   ]
  },
  {
   "cell_type": "code",
   "execution_count": 24,
   "metadata": {
    "execution": {
     "iopub.execute_input": "2020-10-23T17:08:54.069754Z",
     "iopub.status.busy": "2020-10-23T17:08:54.068663Z",
     "iopub.status.idle": "2020-10-23T17:08:54.082837Z",
     "shell.execute_reply": "2020-10-23T17:08:54.083429Z"
    },
    "papermill": {
     "duration": 0.077885,
     "end_time": "2020-10-23T17:08:54.083617",
     "exception": false,
     "start_time": "2020-10-23T17:08:54.005732",
     "status": "completed"
    },
    "tags": []
   },
   "outputs": [
    {
     "data": {
      "text/html": [
       "<div>\n",
       "<style scoped>\n",
       "    .dataframe tbody tr th:only-of-type {\n",
       "        vertical-align: middle;\n",
       "    }\n",
       "\n",
       "    .dataframe tbody tr th {\n",
       "        vertical-align: top;\n",
       "    }\n",
       "\n",
       "    .dataframe thead th {\n",
       "        text-align: right;\n",
       "    }\n",
       "</style>\n",
       "<table border=\"1\" class=\"dataframe\">\n",
       "  <thead>\n",
       "    <tr style=\"text-align: right;\">\n",
       "      <th></th>\n",
       "      <th>Database Fundamentals</th>\n",
       "      <th>Computer Architecture</th>\n",
       "      <th>Distributed Computing Systems</th>\n",
       "      <th>Cyber Security</th>\n",
       "      <th>Networking</th>\n",
       "      <th>Software Development</th>\n",
       "      <th>Programming Skills</th>\n",
       "      <th>Project Management</th>\n",
       "      <th>Computer Forensics Fundamentals</th>\n",
       "      <th>Technical Communication</th>\n",
       "      <th>AI ML</th>\n",
       "      <th>Software Engineering</th>\n",
       "      <th>Business Analysis</th>\n",
       "      <th>Communication skills</th>\n",
       "      <th>Data Science</th>\n",
       "      <th>Troubleshooting skills</th>\n",
       "      <th>Graphics Designing</th>\n",
       "      <th>Role</th>\n",
       "    </tr>\n",
       "  </thead>\n",
       "  <tbody>\n",
       "    <tr>\n",
       "      <th>0</th>\n",
       "      <td>Professional</td>\n",
       "      <td>Not Interested</td>\n",
       "      <td>Not Interested</td>\n",
       "      <td>Not Interested</td>\n",
       "      <td>Not Interested</td>\n",
       "      <td>Not Interested</td>\n",
       "      <td>Not Interested</td>\n",
       "      <td>Not Interested</td>\n",
       "      <td>Not Interested</td>\n",
       "      <td>Not Interested</td>\n",
       "      <td>Not Interested</td>\n",
       "      <td>Not Interested</td>\n",
       "      <td>Not Interested</td>\n",
       "      <td>Not Interested</td>\n",
       "      <td>Not Interested</td>\n",
       "      <td>Not Interested</td>\n",
       "      <td>Not Interested</td>\n",
       "      <td>Database Administrator</td>\n",
       "    </tr>\n",
       "    <tr>\n",
       "      <th>1</th>\n",
       "      <td>Professional</td>\n",
       "      <td>Poor</td>\n",
       "      <td>Not Interested</td>\n",
       "      <td>Not Interested</td>\n",
       "      <td>Not Interested</td>\n",
       "      <td>Not Interested</td>\n",
       "      <td>Not Interested</td>\n",
       "      <td>Not Interested</td>\n",
       "      <td>Not Interested</td>\n",
       "      <td>Not Interested</td>\n",
       "      <td>Not Interested</td>\n",
       "      <td>Not Interested</td>\n",
       "      <td>Not Interested</td>\n",
       "      <td>Not Interested</td>\n",
       "      <td>Not Interested</td>\n",
       "      <td>Not Interested</td>\n",
       "      <td>Not Interested</td>\n",
       "      <td>Database Administrator</td>\n",
       "    </tr>\n",
       "    <tr>\n",
       "      <th>2</th>\n",
       "      <td>Professional</td>\n",
       "      <td>Beginner</td>\n",
       "      <td>Not Interested</td>\n",
       "      <td>Not Interested</td>\n",
       "      <td>Not Interested</td>\n",
       "      <td>Not Interested</td>\n",
       "      <td>Not Interested</td>\n",
       "      <td>Not Interested</td>\n",
       "      <td>Not Interested</td>\n",
       "      <td>Not Interested</td>\n",
       "      <td>Not Interested</td>\n",
       "      <td>Not Interested</td>\n",
       "      <td>Not Interested</td>\n",
       "      <td>Not Interested</td>\n",
       "      <td>Not Interested</td>\n",
       "      <td>Not Interested</td>\n",
       "      <td>Not Interested</td>\n",
       "      <td>Database Administrator</td>\n",
       "    </tr>\n",
       "    <tr>\n",
       "      <th>3</th>\n",
       "      <td>Professional</td>\n",
       "      <td>Average</td>\n",
       "      <td>Not Interested</td>\n",
       "      <td>Not Interested</td>\n",
       "      <td>Not Interested</td>\n",
       "      <td>Not Interested</td>\n",
       "      <td>Not Interested</td>\n",
       "      <td>Not Interested</td>\n",
       "      <td>Not Interested</td>\n",
       "      <td>Not Interested</td>\n",
       "      <td>Not Interested</td>\n",
       "      <td>Not Interested</td>\n",
       "      <td>Not Interested</td>\n",
       "      <td>Not Interested</td>\n",
       "      <td>Not Interested</td>\n",
       "      <td>Not Interested</td>\n",
       "      <td>Not Interested</td>\n",
       "      <td>Database Administrator</td>\n",
       "    </tr>\n",
       "    <tr>\n",
       "      <th>4</th>\n",
       "      <td>Professional</td>\n",
       "      <td>Intermediate</td>\n",
       "      <td>Not Interested</td>\n",
       "      <td>Not Interested</td>\n",
       "      <td>Not Interested</td>\n",
       "      <td>Not Interested</td>\n",
       "      <td>Not Interested</td>\n",
       "      <td>Not Interested</td>\n",
       "      <td>Not Interested</td>\n",
       "      <td>Not Interested</td>\n",
       "      <td>Not Interested</td>\n",
       "      <td>Not Interested</td>\n",
       "      <td>Not Interested</td>\n",
       "      <td>Not Interested</td>\n",
       "      <td>Not Interested</td>\n",
       "      <td>Not Interested</td>\n",
       "      <td>Not Interested</td>\n",
       "      <td>Database Administrator</td>\n",
       "    </tr>\n",
       "  </tbody>\n",
       "</table>\n",
       "</div>"
      ],
      "text/plain": [
       "  Database Fundamentals Computer Architecture Distributed Computing Systems  \\\n",
       "0          Professional        Not Interested                Not Interested   \n",
       "1          Professional                  Poor                Not Interested   \n",
       "2          Professional              Beginner                Not Interested   \n",
       "3          Professional               Average                Not Interested   \n",
       "4          Professional          Intermediate                Not Interested   \n",
       "\n",
       "   Cyber Security      Networking Software Development Programming Skills  \\\n",
       "0  Not Interested  Not Interested       Not Interested     Not Interested   \n",
       "1  Not Interested  Not Interested       Not Interested     Not Interested   \n",
       "2  Not Interested  Not Interested       Not Interested     Not Interested   \n",
       "3  Not Interested  Not Interested       Not Interested     Not Interested   \n",
       "4  Not Interested  Not Interested       Not Interested     Not Interested   \n",
       "\n",
       "  Project Management Computer Forensics Fundamentals Technical Communication  \\\n",
       "0     Not Interested                  Not Interested          Not Interested   \n",
       "1     Not Interested                  Not Interested          Not Interested   \n",
       "2     Not Interested                  Not Interested          Not Interested   \n",
       "3     Not Interested                  Not Interested          Not Interested   \n",
       "4     Not Interested                  Not Interested          Not Interested   \n",
       "\n",
       "            AI ML Software Engineering Business Analysis Communication skills  \\\n",
       "0  Not Interested       Not Interested    Not Interested       Not Interested   \n",
       "1  Not Interested       Not Interested    Not Interested       Not Interested   \n",
       "2  Not Interested       Not Interested    Not Interested       Not Interested   \n",
       "3  Not Interested       Not Interested    Not Interested       Not Interested   \n",
       "4  Not Interested       Not Interested    Not Interested       Not Interested   \n",
       "\n",
       "     Data Science Troubleshooting skills Graphics Designing  \\\n",
       "0  Not Interested         Not Interested     Not Interested   \n",
       "1  Not Interested         Not Interested     Not Interested   \n",
       "2  Not Interested         Not Interested     Not Interested   \n",
       "3  Not Interested         Not Interested     Not Interested   \n",
       "4  Not Interested         Not Interested     Not Interested   \n",
       "\n",
       "                     Role  \n",
       "0  Database Administrator  \n",
       "1  Database Administrator  \n",
       "2  Database Administrator  \n",
       "3  Database Administrator  \n",
       "4  Database Administrator  "
      ]
     },
     "execution_count": 24,
     "metadata": {},
     "output_type": "execute_result"
    }
   ],
   "source": [
    "df.head()"
   ]
  },
  {
   "cell_type": "code",
   "execution_count": 25,
   "metadata": {
    "execution": {
     "iopub.execute_input": "2020-10-23T17:08:54.175902Z",
     "iopub.status.busy": "2020-10-23T17:08:54.174767Z",
     "iopub.status.idle": "2020-10-23T17:08:54.179445Z",
     "shell.execute_reply": "2020-10-23T17:08:54.178682Z"
    },
    "papermill": {
     "duration": 0.053026,
     "end_time": "2020-10-23T17:08:54.179592",
     "exception": false,
     "start_time": "2020-10-23T17:08:54.126566",
     "status": "completed"
    },
    "tags": []
   },
   "outputs": [
    {
     "data": {
      "text/plain": [
       "(9179, 18)"
      ]
     },
     "execution_count": 25,
     "metadata": {},
     "output_type": "execute_result"
    }
   ],
   "source": [
    "df.shape"
   ]
  },
  {
   "cell_type": "code",
   "execution_count": 26,
   "metadata": {
    "execution": {
     "iopub.execute_input": "2020-10-23T17:08:54.273491Z",
     "iopub.status.busy": "2020-10-23T17:08:54.272368Z",
     "iopub.status.idle": "2020-10-23T17:08:54.277508Z",
     "shell.execute_reply": "2020-10-23T17:08:54.276923Z"
    },
    "papermill": {
     "duration": 0.054496,
     "end_time": "2020-10-23T17:08:54.277661",
     "exception": false,
     "start_time": "2020-10-23T17:08:54.223165",
     "status": "completed"
    },
    "tags": []
   },
   "outputs": [
    {
     "data": {
      "text/plain": [
       "Index(['Database Fundamentals', 'Computer Architecture',\n",
       "       'Distributed Computing Systems', 'Cyber Security', 'Networking',\n",
       "       'Software Development', 'Programming Skills', 'Project Management',\n",
       "       'Computer Forensics Fundamentals', 'Technical Communication', 'AI ML',\n",
       "       'Software Engineering', 'Business Analysis', 'Communication skills',\n",
       "       'Data Science', 'Troubleshooting skills', 'Graphics Designing', 'Role'],\n",
       "      dtype='object')"
      ]
     },
     "execution_count": 26,
     "metadata": {},
     "output_type": "execute_result"
    }
   ],
   "source": [
    "df.columns"
   ]
  },
  {
   "cell_type": "code",
   "execution_count": 27,
   "metadata": {
    "execution": {
     "iopub.execute_input": "2020-10-23T17:08:54.382460Z",
     "iopub.status.busy": "2020-10-23T17:08:54.381579Z",
     "iopub.status.idle": "2020-10-23T17:08:54.385700Z",
     "shell.execute_reply": "2020-10-23T17:08:54.386222Z"
    },
    "papermill": {
     "duration": 0.065226,
     "end_time": "2020-10-23T17:08:54.386387",
     "exception": false,
     "start_time": "2020-10-23T17:08:54.321161",
     "status": "completed"
    },
    "tags": []
   },
   "outputs": [
    {
     "name": "stdout",
     "output_type": "stream",
     "text": [
      "<class 'pandas.core.frame.DataFrame'>\n",
      "RangeIndex: 9179 entries, 0 to 9178\n",
      "Data columns (total 18 columns):\n",
      " #   Column                           Non-Null Count  Dtype \n",
      "---  ------                           --------------  ----- \n",
      " 0   Database Fundamentals            9179 non-null   object\n",
      " 1   Computer Architecture            9179 non-null   object\n",
      " 2   Distributed Computing Systems    9179 non-null   object\n",
      " 3   Cyber Security                   9179 non-null   object\n",
      " 4   Networking                       9179 non-null   object\n",
      " 5   Software Development             9179 non-null   object\n",
      " 6   Programming Skills               9179 non-null   object\n",
      " 7   Project Management               9179 non-null   object\n",
      " 8   Computer Forensics Fundamentals  9179 non-null   object\n",
      " 9   Technical Communication          9179 non-null   object\n",
      " 10  AI ML                            9179 non-null   object\n",
      " 11  Software Engineering             9179 non-null   object\n",
      " 12  Business Analysis                9179 non-null   object\n",
      " 13  Communication skills             9179 non-null   object\n",
      " 14  Data Science                     9179 non-null   object\n",
      " 15  Troubleshooting skills           9179 non-null   object\n",
      " 16  Graphics Designing               9179 non-null   object\n",
      " 17  Role                             9179 non-null   object\n",
      "dtypes: object(18)\n",
      "memory usage: 1.3+ MB\n"
     ]
    }
   ],
   "source": [
    "df.info()"
   ]
  },
  {
   "cell_type": "markdown",
   "metadata": {
    "papermill": {
     "duration": 0.048046,
     "end_time": "2020-10-23T17:08:55.357536",
     "exception": false,
     "start_time": "2020-10-23T17:08:55.309490",
     "status": "completed"
    },
    "tags": []
   },
   "source": [
    "## Analyzing Categorical Variables"
   ]
  },
  {
   "cell_type": "code",
   "execution_count": 28,
   "metadata": {
    "execution": {
     "iopub.execute_input": "2020-10-23T17:08:55.460885Z",
     "iopub.status.busy": "2020-10-23T17:08:55.459811Z",
     "iopub.status.idle": "2020-10-23T17:08:55.463587Z",
     "shell.execute_reply": "2020-10-23T17:08:55.464362Z"
    },
    "papermill": {
     "duration": 0.058734,
     "end_time": "2020-10-23T17:08:55.464593",
     "exception": false,
     "start_time": "2020-10-23T17:08:55.405859",
     "status": "completed"
    },
    "tags": []
   },
   "outputs": [
    {
     "name": "stdout",
     "output_type": "stream",
     "text": [
      "There are 18 categorical variables\n",
      "The categorical variables are : ['Database Fundamentals', 'Computer Architecture', 'Distributed Computing Systems', 'Cyber Security', 'Networking', 'Software Development', 'Programming Skills', 'Project Management', 'Computer Forensics Fundamentals', 'Technical Communication', 'AI ML', 'Software Engineering', 'Business Analysis', 'Communication skills', 'Data Science', 'Troubleshooting skills', 'Graphics Designing', 'Role']\n"
     ]
    }
   ],
   "source": [
    "categorical = [var for var in df.columns if df[var].dtype=='O']\n",
    "print('There are {} categorical variables'.format(len(categorical)))\n",
    "print('The categorical variables are :', categorical)"
   ]
  },
  {
   "cell_type": "code",
   "execution_count": 29,
   "metadata": {
    "execution": {
     "iopub.execute_input": "2020-10-23T17:08:55.581224Z",
     "iopub.status.busy": "2020-10-23T17:08:55.580266Z",
     "iopub.status.idle": "2020-10-23T17:08:55.585859Z",
     "shell.execute_reply": "2020-10-23T17:08:55.585196Z"
    },
    "papermill": {
     "duration": 0.072486,
     "end_time": "2020-10-23T17:08:55.585985",
     "exception": false,
     "start_time": "2020-10-23T17:08:55.513499",
     "status": "completed"
    },
    "tags": []
   },
   "outputs": [
    {
     "data": {
      "text/html": [
       "<div>\n",
       "<style scoped>\n",
       "    .dataframe tbody tr th:only-of-type {\n",
       "        vertical-align: middle;\n",
       "    }\n",
       "\n",
       "    .dataframe tbody tr th {\n",
       "        vertical-align: top;\n",
       "    }\n",
       "\n",
       "    .dataframe thead th {\n",
       "        text-align: right;\n",
       "    }\n",
       "</style>\n",
       "<table border=\"1\" class=\"dataframe\">\n",
       "  <thead>\n",
       "    <tr style=\"text-align: right;\">\n",
       "      <th></th>\n",
       "      <th>Database Fundamentals</th>\n",
       "      <th>Computer Architecture</th>\n",
       "      <th>Distributed Computing Systems</th>\n",
       "      <th>Cyber Security</th>\n",
       "      <th>Networking</th>\n",
       "      <th>Software Development</th>\n",
       "      <th>Programming Skills</th>\n",
       "      <th>Project Management</th>\n",
       "      <th>Computer Forensics Fundamentals</th>\n",
       "      <th>Technical Communication</th>\n",
       "      <th>AI ML</th>\n",
       "      <th>Software Engineering</th>\n",
       "      <th>Business Analysis</th>\n",
       "      <th>Communication skills</th>\n",
       "      <th>Data Science</th>\n",
       "      <th>Troubleshooting skills</th>\n",
       "      <th>Graphics Designing</th>\n",
       "      <th>Role</th>\n",
       "    </tr>\n",
       "  </thead>\n",
       "  <tbody>\n",
       "    <tr>\n",
       "      <th>0</th>\n",
       "      <td>Professional</td>\n",
       "      <td>Not Interested</td>\n",
       "      <td>Not Interested</td>\n",
       "      <td>Not Interested</td>\n",
       "      <td>Not Interested</td>\n",
       "      <td>Not Interested</td>\n",
       "      <td>Not Interested</td>\n",
       "      <td>Not Interested</td>\n",
       "      <td>Not Interested</td>\n",
       "      <td>Not Interested</td>\n",
       "      <td>Not Interested</td>\n",
       "      <td>Not Interested</td>\n",
       "      <td>Not Interested</td>\n",
       "      <td>Not Interested</td>\n",
       "      <td>Not Interested</td>\n",
       "      <td>Not Interested</td>\n",
       "      <td>Not Interested</td>\n",
       "      <td>Database Administrator</td>\n",
       "    </tr>\n",
       "    <tr>\n",
       "      <th>1</th>\n",
       "      <td>Professional</td>\n",
       "      <td>Poor</td>\n",
       "      <td>Not Interested</td>\n",
       "      <td>Not Interested</td>\n",
       "      <td>Not Interested</td>\n",
       "      <td>Not Interested</td>\n",
       "      <td>Not Interested</td>\n",
       "      <td>Not Interested</td>\n",
       "      <td>Not Interested</td>\n",
       "      <td>Not Interested</td>\n",
       "      <td>Not Interested</td>\n",
       "      <td>Not Interested</td>\n",
       "      <td>Not Interested</td>\n",
       "      <td>Not Interested</td>\n",
       "      <td>Not Interested</td>\n",
       "      <td>Not Interested</td>\n",
       "      <td>Not Interested</td>\n",
       "      <td>Database Administrator</td>\n",
       "    </tr>\n",
       "    <tr>\n",
       "      <th>2</th>\n",
       "      <td>Professional</td>\n",
       "      <td>Beginner</td>\n",
       "      <td>Not Interested</td>\n",
       "      <td>Not Interested</td>\n",
       "      <td>Not Interested</td>\n",
       "      <td>Not Interested</td>\n",
       "      <td>Not Interested</td>\n",
       "      <td>Not Interested</td>\n",
       "      <td>Not Interested</td>\n",
       "      <td>Not Interested</td>\n",
       "      <td>Not Interested</td>\n",
       "      <td>Not Interested</td>\n",
       "      <td>Not Interested</td>\n",
       "      <td>Not Interested</td>\n",
       "      <td>Not Interested</td>\n",
       "      <td>Not Interested</td>\n",
       "      <td>Not Interested</td>\n",
       "      <td>Database Administrator</td>\n",
       "    </tr>\n",
       "    <tr>\n",
       "      <th>3</th>\n",
       "      <td>Professional</td>\n",
       "      <td>Average</td>\n",
       "      <td>Not Interested</td>\n",
       "      <td>Not Interested</td>\n",
       "      <td>Not Interested</td>\n",
       "      <td>Not Interested</td>\n",
       "      <td>Not Interested</td>\n",
       "      <td>Not Interested</td>\n",
       "      <td>Not Interested</td>\n",
       "      <td>Not Interested</td>\n",
       "      <td>Not Interested</td>\n",
       "      <td>Not Interested</td>\n",
       "      <td>Not Interested</td>\n",
       "      <td>Not Interested</td>\n",
       "      <td>Not Interested</td>\n",
       "      <td>Not Interested</td>\n",
       "      <td>Not Interested</td>\n",
       "      <td>Database Administrator</td>\n",
       "    </tr>\n",
       "    <tr>\n",
       "      <th>4</th>\n",
       "      <td>Professional</td>\n",
       "      <td>Intermediate</td>\n",
       "      <td>Not Interested</td>\n",
       "      <td>Not Interested</td>\n",
       "      <td>Not Interested</td>\n",
       "      <td>Not Interested</td>\n",
       "      <td>Not Interested</td>\n",
       "      <td>Not Interested</td>\n",
       "      <td>Not Interested</td>\n",
       "      <td>Not Interested</td>\n",
       "      <td>Not Interested</td>\n",
       "      <td>Not Interested</td>\n",
       "      <td>Not Interested</td>\n",
       "      <td>Not Interested</td>\n",
       "      <td>Not Interested</td>\n",
       "      <td>Not Interested</td>\n",
       "      <td>Not Interested</td>\n",
       "      <td>Database Administrator</td>\n",
       "    </tr>\n",
       "  </tbody>\n",
       "</table>\n",
       "</div>"
      ],
      "text/plain": [
       "  Database Fundamentals Computer Architecture Distributed Computing Systems  \\\n",
       "0          Professional        Not Interested                Not Interested   \n",
       "1          Professional                  Poor                Not Interested   \n",
       "2          Professional              Beginner                Not Interested   \n",
       "3          Professional               Average                Not Interested   \n",
       "4          Professional          Intermediate                Not Interested   \n",
       "\n",
       "   Cyber Security      Networking Software Development Programming Skills  \\\n",
       "0  Not Interested  Not Interested       Not Interested     Not Interested   \n",
       "1  Not Interested  Not Interested       Not Interested     Not Interested   \n",
       "2  Not Interested  Not Interested       Not Interested     Not Interested   \n",
       "3  Not Interested  Not Interested       Not Interested     Not Interested   \n",
       "4  Not Interested  Not Interested       Not Interested     Not Interested   \n",
       "\n",
       "  Project Management Computer Forensics Fundamentals Technical Communication  \\\n",
       "0     Not Interested                  Not Interested          Not Interested   \n",
       "1     Not Interested                  Not Interested          Not Interested   \n",
       "2     Not Interested                  Not Interested          Not Interested   \n",
       "3     Not Interested                  Not Interested          Not Interested   \n",
       "4     Not Interested                  Not Interested          Not Interested   \n",
       "\n",
       "            AI ML Software Engineering Business Analysis Communication skills  \\\n",
       "0  Not Interested       Not Interested    Not Interested       Not Interested   \n",
       "1  Not Interested       Not Interested    Not Interested       Not Interested   \n",
       "2  Not Interested       Not Interested    Not Interested       Not Interested   \n",
       "3  Not Interested       Not Interested    Not Interested       Not Interested   \n",
       "4  Not Interested       Not Interested    Not Interested       Not Interested   \n",
       "\n",
       "     Data Science Troubleshooting skills Graphics Designing  \\\n",
       "0  Not Interested         Not Interested     Not Interested   \n",
       "1  Not Interested         Not Interested     Not Interested   \n",
       "2  Not Interested         Not Interested     Not Interested   \n",
       "3  Not Interested         Not Interested     Not Interested   \n",
       "4  Not Interested         Not Interested     Not Interested   \n",
       "\n",
       "                     Role  \n",
       "0  Database Administrator  \n",
       "1  Database Administrator  \n",
       "2  Database Administrator  \n",
       "3  Database Administrator  \n",
       "4  Database Administrator  "
      ]
     },
     "execution_count": 29,
     "metadata": {},
     "output_type": "execute_result"
    }
   ],
   "source": [
    "df[categorical].head()"
   ]
  },
  {
   "cell_type": "code",
   "execution_count": 30,
   "metadata": {
    "execution": {
     "iopub.execute_input": "2020-10-23T17:08:55.694884Z",
     "iopub.status.busy": "2020-10-23T17:08:55.693768Z",
     "iopub.status.idle": "2020-10-23T17:08:55.698607Z",
     "shell.execute_reply": "2020-10-23T17:08:55.698008Z"
    },
    "papermill": {
     "duration": 0.063825,
     "end_time": "2020-10-23T17:08:55.698737",
     "exception": false,
     "start_time": "2020-10-23T17:08:55.634912",
     "status": "completed"
    },
    "tags": []
   },
   "outputs": [
    {
     "data": {
      "text/plain": [
       "Database Fundamentals              0\n",
       "Computer Architecture              0\n",
       "Distributed Computing Systems      0\n",
       "Cyber Security                     0\n",
       "Networking                         0\n",
       "Software Development               0\n",
       "Programming Skills                 0\n",
       "Project Management                 0\n",
       "Computer Forensics Fundamentals    0\n",
       "Technical Communication            0\n",
       "AI ML                              0\n",
       "Software Engineering               0\n",
       "Business Analysis                  0\n",
       "Communication skills               0\n",
       "Data Science                       0\n",
       "Troubleshooting skills             0\n",
       "Graphics Designing                 0\n",
       "Role                               0\n",
       "dtype: int64"
      ]
     },
     "execution_count": 30,
     "metadata": {},
     "output_type": "execute_result"
    }
   ],
   "source": [
    "df[categorical].isnull().sum()"
   ]
  },
  {
   "cell_type": "code",
   "execution_count": 31,
   "metadata": {
    "execution": {
     "iopub.execute_input": "2020-10-23T17:08:55.810213Z",
     "iopub.status.busy": "2020-10-23T17:08:55.809424Z",
     "iopub.status.idle": "2020-10-23T17:08:55.862026Z",
     "shell.execute_reply": "2020-10-23T17:08:55.863190Z"
    },
    "papermill": {
     "duration": 0.114375,
     "end_time": "2020-10-23T17:08:55.863424",
     "exception": false,
     "start_time": "2020-10-23T17:08:55.749049",
     "status": "completed"
    },
    "tags": []
   },
   "outputs": [
    {
     "name": "stdout",
     "output_type": "stream",
     "text": [
      "Not Interested    1440\n",
      "Poor              1440\n",
      "Beginner          1440\n",
      "Average           1440\n",
      "Intermediate      1440\n",
      "Excellent         1439\n",
      "Professional       540\n",
      "Name: Database Fundamentals, dtype: int64\n",
      "Not Interested    0.156880\n",
      "Poor              0.156880\n",
      "Beginner          0.156880\n",
      "Average           0.156880\n",
      "Intermediate      0.156880\n",
      "Excellent         0.156771\n",
      "Professional      0.058830\n",
      "Name: Database Fundamentals, dtype: float64\n",
      "\n",
      "Not Interested    1440\n",
      "Poor              1440\n",
      "Beginner          1440\n",
      "Average           1440\n",
      "Intermediate      1440\n",
      "Excellent         1439\n",
      "Professional       540\n",
      "Name: Computer Architecture, dtype: int64\n",
      "Not Interested    0.156880\n",
      "Poor              0.156880\n",
      "Beginner          0.156880\n",
      "Average           0.156880\n",
      "Intermediate      0.156880\n",
      "Excellent         0.156771\n",
      "Professional      0.058830\n",
      "Name: Computer Architecture, dtype: float64\n",
      "\n",
      "Not Interested    1440\n",
      "Poor              1440\n",
      "Beginner          1440\n",
      "Average           1440\n",
      "Intermediate      1440\n",
      "Excellent         1439\n",
      "Professional       540\n",
      "Name: Distributed Computing Systems, dtype: int64\n",
      "Not Interested    0.156880\n",
      "Poor              0.156880\n",
      "Beginner          0.156880\n",
      "Average           0.156880\n",
      "Intermediate      0.156880\n",
      "Excellent         0.156771\n",
      "Professional      0.058830\n",
      "Name: Distributed Computing Systems, dtype: float64\n",
      "\n",
      "Not Interested    1440\n",
      "Poor              1440\n",
      "Beginner          1440\n",
      "Average           1440\n",
      "Intermediate      1440\n",
      "Excellent         1439\n",
      "Professional       540\n",
      "Name: Cyber Security, dtype: int64\n",
      "Not Interested    0.156880\n",
      "Poor              0.156880\n",
      "Beginner          0.156880\n",
      "Average           0.156880\n",
      "Intermediate      0.156880\n",
      "Excellent         0.156771\n",
      "Professional      0.058830\n",
      "Name: Cyber Security, dtype: float64\n",
      "\n",
      "Not Interested    1440\n",
      "Poor              1440\n",
      "Beginner          1440\n",
      "Average           1440\n",
      "Intermediate      1440\n",
      "Excellent         1439\n",
      "Professional       540\n",
      "Name: Networking, dtype: int64\n",
      "Not Interested    0.156880\n",
      "Poor              0.156880\n",
      "Beginner          0.156880\n",
      "Average           0.156880\n",
      "Intermediate      0.156880\n",
      "Excellent         0.156771\n",
      "Professional      0.058830\n",
      "Name: Networking, dtype: float64\n",
      "\n",
      "Not Interested    1440\n",
      "Poor              1440\n",
      "Beginner          1440\n",
      "Average           1440\n",
      "Intermediate      1440\n",
      "Excellent         1439\n",
      "Professional       540\n",
      "Name: Software Development, dtype: int64\n",
      "Not Interested    0.156880\n",
      "Poor              0.156880\n",
      "Beginner          0.156880\n",
      "Average           0.156880\n",
      "Intermediate      0.156880\n",
      "Excellent         0.156771\n",
      "Professional      0.058830\n",
      "Name: Software Development, dtype: float64\n",
      "\n",
      "Not Interested    1440\n",
      "Poor              1440\n",
      "Beginner          1440\n",
      "Average           1440\n",
      "Intermediate      1440\n",
      "Excellent         1439\n",
      "Professional       540\n",
      "Name: Programming Skills, dtype: int64\n",
      "Not Interested    0.156880\n",
      "Poor              0.156880\n",
      "Beginner          0.156880\n",
      "Average           0.156880\n",
      "Intermediate      0.156880\n",
      "Excellent         0.156771\n",
      "Professional      0.058830\n",
      "Name: Programming Skills, dtype: float64\n",
      "\n",
      "Not Interested    1440\n",
      "Poor              1440\n",
      "Beginner          1440\n",
      "Average           1440\n",
      "Intermediate      1440\n",
      "Excellent         1439\n",
      "Professional       540\n",
      "Name: Project Management, dtype: int64\n",
      "Not Interested    0.156880\n",
      "Poor              0.156880\n",
      "Beginner          0.156880\n",
      "Average           0.156880\n",
      "Intermediate      0.156880\n",
      "Excellent         0.156771\n",
      "Professional      0.058830\n",
      "Name: Project Management, dtype: float64\n",
      "\n",
      "Not Interested    1440\n",
      "Poor              1440\n",
      "Beginner          1440\n",
      "Average           1440\n",
      "Intermediate      1440\n",
      "Excellent         1439\n",
      "Professional       540\n",
      "Name: Computer Forensics Fundamentals, dtype: int64\n",
      "Not Interested    0.156880\n",
      "Poor              0.156880\n",
      "Beginner          0.156880\n",
      "Average           0.156880\n",
      "Intermediate      0.156880\n",
      "Excellent         0.156771\n",
      "Professional      0.058830\n",
      "Name: Computer Forensics Fundamentals, dtype: float64\n",
      "\n",
      "Not Interested    1440\n",
      "Poor              1440\n",
      "Beginner          1440\n",
      "Average           1440\n",
      "Intermediate      1440\n",
      "Excellent         1439\n",
      "Professional       540\n",
      "Name: Technical Communication, dtype: int64\n",
      "Not Interested    0.156880\n",
      "Poor              0.156880\n",
      "Beginner          0.156880\n",
      "Average           0.156880\n",
      "Intermediate      0.156880\n",
      "Excellent         0.156771\n",
      "Professional      0.058830\n",
      "Name: Technical Communication, dtype: float64\n",
      "\n",
      "Not Interested    1440\n",
      "Poor              1440\n",
      "Beginner          1440\n",
      "Average           1440\n",
      "Intermediate      1440\n",
      "Excellent         1439\n",
      "Professional       540\n",
      "Name: AI ML, dtype: int64\n",
      "Not Interested    0.156880\n",
      "Poor              0.156880\n",
      "Beginner          0.156880\n",
      "Average           0.156880\n",
      "Intermediate      0.156880\n",
      "Excellent         0.156771\n",
      "Professional      0.058830\n",
      "Name: AI ML, dtype: float64\n",
      "\n",
      "Not Interested    1440\n",
      "Poor              1440\n",
      "Beginner          1440\n",
      "Average           1440\n",
      "Intermediate      1440\n",
      "Excellent         1439\n",
      "Professional       540\n",
      "Name: Software Engineering, dtype: int64\n",
      "Not Interested    0.156880\n",
      "Poor              0.156880\n",
      "Beginner          0.156880\n",
      "Average           0.156880\n",
      "Intermediate      0.156880\n",
      "Excellent         0.156771\n",
      "Professional      0.058830\n",
      "Name: Software Engineering, dtype: float64\n",
      "\n",
      "Not Interested    1440\n",
      "Poor              1440\n",
      "Beginner          1440\n",
      "Average           1440\n",
      "Intermediate      1440\n",
      "Excellent         1439\n",
      "Professional       540\n",
      "Name: Business Analysis, dtype: int64\n",
      "Not Interested    0.156880\n",
      "Poor              0.156880\n",
      "Beginner          0.156880\n",
      "Average           0.156880\n",
      "Intermediate      0.156880\n",
      "Excellent         0.156771\n",
      "Professional      0.058830\n",
      "Name: Business Analysis, dtype: float64\n",
      "\n",
      "Not Interested    1440\n",
      "Poor              1440\n",
      "Beginner          1440\n",
      "Average           1440\n",
      "Intermediate      1440\n",
      "Excellent         1439\n",
      "Professional       540\n",
      "Name: Communication skills, dtype: int64\n",
      "Not Interested    0.156880\n",
      "Poor              0.156880\n",
      "Beginner          0.156880\n",
      "Average           0.156880\n",
      "Intermediate      0.156880\n",
      "Excellent         0.156771\n",
      "Professional      0.058830\n",
      "Name: Communication skills, dtype: float64\n",
      "\n",
      "Not Interested    1440\n",
      "Poor              1440\n",
      "Beginner          1440\n",
      "Average           1440\n",
      "Intermediate      1440\n",
      "Excellent         1439\n",
      "Professional       540\n",
      "Name: Data Science, dtype: int64\n",
      "Not Interested    0.156880\n",
      "Poor              0.156880\n",
      "Beginner          0.156880\n",
      "Average           0.156880\n",
      "Intermediate      0.156880\n",
      "Excellent         0.156771\n",
      "Professional      0.058830\n",
      "Name: Data Science, dtype: float64\n",
      "\n",
      "Not Interested    1440\n",
      "Poor              1440\n",
      "Beginner          1440\n",
      "Average           1440\n",
      "Intermediate      1440\n",
      "Excellent         1439\n",
      "Professional       540\n",
      "Name: Troubleshooting skills, dtype: int64\n",
      "Not Interested    0.156880\n",
      "Poor              0.156880\n",
      "Beginner          0.156880\n",
      "Average           0.156880\n",
      "Intermediate      0.156880\n",
      "Excellent         0.156771\n",
      "Professional      0.058830\n",
      "Name: Troubleshooting skills, dtype: float64\n",
      "\n",
      "Poor              1441\n",
      "Not Interested    1440\n",
      "Beginner          1440\n",
      "Average           1440\n",
      "Intermediate      1440\n",
      "Excellent         1439\n",
      "Professional       539\n",
      "Name: Graphics Designing, dtype: int64\n",
      "Poor              0.156989\n",
      "Not Interested    0.156880\n",
      "Beginner          0.156880\n",
      "Average           0.156880\n",
      "Intermediate      0.156880\n",
      "Excellent         0.156771\n",
      "Professional      0.058721\n",
      "Name: Graphics Designing, dtype: float64\n",
      "\n",
      "Database Administrator             540\n",
      "Technical Writer                   540\n",
      "Helpdesk Engineer                  540\n",
      "Data Scientist                     540\n",
      "Customer Service Executive         540\n",
      "Business Analyst                   540\n",
      "Software tester                    540\n",
      "AI ML Specialist                   540\n",
      "Information Security Specialist    540\n",
      "Hardware Engineer                  540\n",
      "Project Manager                    540\n",
      "API Specialist                     540\n",
      "Software Developer                 540\n",
      "Networking Engineer                540\n",
      "Cyber Security Specialist          540\n",
      "Application Support Engineer       540\n",
      "Graphics Designer                  539\n",
      "Name: Role, dtype: int64\n",
      "Database Administrator             0.058830\n",
      "Technical Writer                   0.058830\n",
      "Helpdesk Engineer                  0.058830\n",
      "Data Scientist                     0.058830\n",
      "Customer Service Executive         0.058830\n",
      "Business Analyst                   0.058830\n",
      "Software tester                    0.058830\n",
      "AI ML Specialist                   0.058830\n",
      "Information Security Specialist    0.058830\n",
      "Hardware Engineer                  0.058830\n",
      "Project Manager                    0.058830\n",
      "API Specialist                     0.058830\n",
      "Software Developer                 0.058830\n",
      "Networking Engineer                0.058830\n",
      "Cyber Security Specialist          0.058830\n",
      "Application Support Engineer       0.058830\n",
      "Graphics Designer                  0.058721\n",
      "Name: Role, dtype: float64\n",
      "\n"
     ]
    },
    {
     "name": "stderr",
     "output_type": "stream",
     "text": [
      "D:\\anaconda3\\envs\\FinalYear\\lib\\site-packages\\ipykernel_launcher.py:4: DeprecationWarning: `np.float` is a deprecated alias for the builtin `float`. To silence this warning, use `float` by itself. Doing this will not modify any behavior and is safe. If you specifically wanted the numpy scalar type, use `np.float64` here.\n",
      "Deprecated in NumPy 1.20; for more details and guidance: https://numpy.org/devdocs/release/1.20.0-notes.html#deprecations\n",
      "  after removing the cwd from sys.path.\n"
     ]
    }
   ],
   "source": [
    "# view frequency counts of values in categorical variables\n",
    "for var in categorical: \n",
    "    print(df[var].value_counts())\n",
    "    print(df[var].value_counts()/np.float(len(df)))\n",
    "    print()"
   ]
  },
  {
   "cell_type": "code",
   "execution_count": 32,
   "metadata": {
    "execution": {
     "iopub.execute_input": "2020-10-23T17:08:55.971447Z",
     "iopub.status.busy": "2020-10-23T17:08:55.970681Z",
     "iopub.status.idle": "2020-10-23T17:08:55.980075Z",
     "shell.execute_reply": "2020-10-23T17:08:55.979090Z"
    },
    "papermill": {
     "duration": 0.06621,
     "end_time": "2020-10-23T17:08:55.980243",
     "exception": false,
     "start_time": "2020-10-23T17:08:55.914033",
     "status": "completed"
    },
    "tags": []
   },
   "outputs": [
    {
     "name": "stdout",
     "output_type": "stream",
     "text": [
      "Database Fundamentals  contains  7  labels\n",
      "Computer Architecture  contains  7  labels\n",
      "Distributed Computing Systems  contains  7  labels\n",
      "Cyber Security  contains  7  labels\n",
      "Networking  contains  7  labels\n",
      "Software Development  contains  7  labels\n",
      "Programming Skills  contains  7  labels\n",
      "Project Management  contains  7  labels\n",
      "Computer Forensics Fundamentals  contains  7  labels\n",
      "Technical Communication  contains  7  labels\n",
      "AI ML  contains  7  labels\n",
      "Software Engineering  contains  7  labels\n",
      "Business Analysis  contains  7  labels\n",
      "Communication skills  contains  7  labels\n",
      "Data Science  contains  7  labels\n",
      "Troubleshooting skills  contains  7  labels\n",
      "Graphics Designing  contains  7  labels\n",
      "Role  contains  17  labels\n"
     ]
    }
   ],
   "source": [
    "# check for cardinality in categorical variables\n",
    "for var in categorical:\n",
    "    print(var, ' contains ', len(df[var].unique()), ' labels')"
   ]
  },
  {
   "cell_type": "markdown",
   "metadata": {
    "papermill": {
     "duration": 0.050506,
     "end_time": "2020-10-23T17:08:56.082774",
     "exception": false,
     "start_time": "2020-10-23T17:08:56.032268",
     "status": "completed"
    },
    "tags": []
   },
   "source": [
    "## Label Encoding"
   ]
  },
  {
   "cell_type": "code",
   "execution_count": 33,
   "metadata": {
    "execution": {
     "iopub.execute_input": "2020-10-23T17:08:56.197174Z",
     "iopub.status.busy": "2020-10-23T17:08:56.196306Z",
     "iopub.status.idle": "2020-10-23T17:08:56.293357Z",
     "shell.execute_reply": "2020-10-23T17:08:56.292585Z"
    },
    "papermill": {
     "duration": 0.159717,
     "end_time": "2020-10-23T17:08:56.293498",
     "exception": false,
     "start_time": "2020-10-23T17:08:56.133781",
     "status": "completed"
    },
    "tags": []
   },
   "outputs": [
    {
     "data": {
      "text/html": [
       "<div>\n",
       "<style scoped>\n",
       "    .dataframe tbody tr th:only-of-type {\n",
       "        vertical-align: middle;\n",
       "    }\n",
       "\n",
       "    .dataframe tbody tr th {\n",
       "        vertical-align: top;\n",
       "    }\n",
       "\n",
       "    .dataframe thead th {\n",
       "        text-align: right;\n",
       "    }\n",
       "</style>\n",
       "<table border=\"1\" class=\"dataframe\">\n",
       "  <thead>\n",
       "    <tr style=\"text-align: right;\">\n",
       "      <th></th>\n",
       "      <th>Database Fundamentals</th>\n",
       "      <th>Computer Architecture</th>\n",
       "      <th>Distributed Computing Systems</th>\n",
       "      <th>Cyber Security</th>\n",
       "      <th>Networking</th>\n",
       "      <th>Software Development</th>\n",
       "      <th>Programming Skills</th>\n",
       "      <th>Project Management</th>\n",
       "      <th>Computer Forensics Fundamentals</th>\n",
       "      <th>Technical Communication</th>\n",
       "      <th>AI ML</th>\n",
       "      <th>Software Engineering</th>\n",
       "      <th>Business Analysis</th>\n",
       "      <th>Communication skills</th>\n",
       "      <th>Data Science</th>\n",
       "      <th>Troubleshooting skills</th>\n",
       "      <th>Graphics Designing</th>\n",
       "      <th>Role</th>\n",
       "    </tr>\n",
       "  </thead>\n",
       "  <tbody>\n",
       "    <tr>\n",
       "      <th>0</th>\n",
       "      <td>6</td>\n",
       "      <td>4</td>\n",
       "      <td>4</td>\n",
       "      <td>4</td>\n",
       "      <td>4</td>\n",
       "      <td>4</td>\n",
       "      <td>4</td>\n",
       "      <td>4</td>\n",
       "      <td>4</td>\n",
       "      <td>4</td>\n",
       "      <td>4</td>\n",
       "      <td>4</td>\n",
       "      <td>4</td>\n",
       "      <td>4</td>\n",
       "      <td>4</td>\n",
       "      <td>4</td>\n",
       "      <td>4</td>\n",
       "      <td>7</td>\n",
       "    </tr>\n",
       "    <tr>\n",
       "      <th>1</th>\n",
       "      <td>6</td>\n",
       "      <td>5</td>\n",
       "      <td>4</td>\n",
       "      <td>4</td>\n",
       "      <td>4</td>\n",
       "      <td>4</td>\n",
       "      <td>4</td>\n",
       "      <td>4</td>\n",
       "      <td>4</td>\n",
       "      <td>4</td>\n",
       "      <td>4</td>\n",
       "      <td>4</td>\n",
       "      <td>4</td>\n",
       "      <td>4</td>\n",
       "      <td>4</td>\n",
       "      <td>4</td>\n",
       "      <td>4</td>\n",
       "      <td>7</td>\n",
       "    </tr>\n",
       "    <tr>\n",
       "      <th>2</th>\n",
       "      <td>6</td>\n",
       "      <td>1</td>\n",
       "      <td>4</td>\n",
       "      <td>4</td>\n",
       "      <td>4</td>\n",
       "      <td>4</td>\n",
       "      <td>4</td>\n",
       "      <td>4</td>\n",
       "      <td>4</td>\n",
       "      <td>4</td>\n",
       "      <td>4</td>\n",
       "      <td>4</td>\n",
       "      <td>4</td>\n",
       "      <td>4</td>\n",
       "      <td>4</td>\n",
       "      <td>4</td>\n",
       "      <td>4</td>\n",
       "      <td>7</td>\n",
       "    </tr>\n",
       "    <tr>\n",
       "      <th>3</th>\n",
       "      <td>6</td>\n",
       "      <td>0</td>\n",
       "      <td>4</td>\n",
       "      <td>4</td>\n",
       "      <td>4</td>\n",
       "      <td>4</td>\n",
       "      <td>4</td>\n",
       "      <td>4</td>\n",
       "      <td>4</td>\n",
       "      <td>4</td>\n",
       "      <td>4</td>\n",
       "      <td>4</td>\n",
       "      <td>4</td>\n",
       "      <td>4</td>\n",
       "      <td>4</td>\n",
       "      <td>4</td>\n",
       "      <td>4</td>\n",
       "      <td>7</td>\n",
       "    </tr>\n",
       "    <tr>\n",
       "      <th>4</th>\n",
       "      <td>6</td>\n",
       "      <td>3</td>\n",
       "      <td>4</td>\n",
       "      <td>4</td>\n",
       "      <td>4</td>\n",
       "      <td>4</td>\n",
       "      <td>4</td>\n",
       "      <td>4</td>\n",
       "      <td>4</td>\n",
       "      <td>4</td>\n",
       "      <td>4</td>\n",
       "      <td>4</td>\n",
       "      <td>4</td>\n",
       "      <td>4</td>\n",
       "      <td>4</td>\n",
       "      <td>4</td>\n",
       "      <td>4</td>\n",
       "      <td>7</td>\n",
       "    </tr>\n",
       "  </tbody>\n",
       "</table>\n",
       "</div>"
      ],
      "text/plain": [
       "   Database Fundamentals  Computer Architecture  \\\n",
       "0                      6                      4   \n",
       "1                      6                      5   \n",
       "2                      6                      1   \n",
       "3                      6                      0   \n",
       "4                      6                      3   \n",
       "\n",
       "   Distributed Computing Systems  Cyber Security  Networking  \\\n",
       "0                              4               4           4   \n",
       "1                              4               4           4   \n",
       "2                              4               4           4   \n",
       "3                              4               4           4   \n",
       "4                              4               4           4   \n",
       "\n",
       "   Software Development  Programming Skills  Project Management  \\\n",
       "0                     4                   4                   4   \n",
       "1                     4                   4                   4   \n",
       "2                     4                   4                   4   \n",
       "3                     4                   4                   4   \n",
       "4                     4                   4                   4   \n",
       "\n",
       "   Computer Forensics Fundamentals  Technical Communication  AI ML  \\\n",
       "0                                4                        4      4   \n",
       "1                                4                        4      4   \n",
       "2                                4                        4      4   \n",
       "3                                4                        4      4   \n",
       "4                                4                        4      4   \n",
       "\n",
       "   Software Engineering  Business Analysis  Communication skills  \\\n",
       "0                     4                  4                     4   \n",
       "1                     4                  4                     4   \n",
       "2                     4                  4                     4   \n",
       "3                     4                  4                     4   \n",
       "4                     4                  4                     4   \n",
       "\n",
       "   Data Science  Troubleshooting skills  Graphics Designing  Role  \n",
       "0             4                       4                   4     7  \n",
       "1             4                       4                   4     7  \n",
       "2             4                       4                   4     7  \n",
       "3             4                       4                   4     7  \n",
       "4             4                       4                   4     7  "
      ]
     },
     "execution_count": 33,
     "metadata": {},
     "output_type": "execute_result"
    }
   ],
   "source": [
    "from sklearn import preprocessing \n",
    "label_encoder = preprocessing.LabelEncoder() \n",
    "\n",
    "df['Database Fundamentals'] = label_encoder.fit_transform(df['Database Fundamentals'])\n",
    "df['Computer Architecture'] = label_encoder.fit_transform(df['Computer Architecture'])\n",
    "df['Distributed Computing Systems'] = label_encoder.fit_transform(df['Distributed Computing Systems'])\n",
    "df['Cyber Security'] = label_encoder.fit_transform(df['Cyber Security'])\n",
    "df['Networking'] = label_encoder.fit_transform(df['Networking'])\n",
    "df['Software Development'] = label_encoder.fit_transform(df['Software Development'])\n",
    "df['Programming Skills'] = label_encoder.fit_transform(df['Programming Skills'])\n",
    "df['Project Management'] = label_encoder.fit_transform(df['Project Management'])\n",
    "df['Computer Forensics Fundamentals'] = label_encoder.fit_transform(df['Computer Forensics Fundamentals'])\n",
    "df['Technical Communication'] = label_encoder.fit_transform(df['Technical Communication'])\n",
    "df['AI ML'] = label_encoder.fit_transform(df['AI ML'])\n",
    "df['Software Engineering'] = label_encoder.fit_transform(df['Software Engineering'])\n",
    "df['Business Analysis'] = label_encoder.fit_transform(df['Business Analysis'])\n",
    "df['Communication skills'] = label_encoder.fit_transform(df['Communication skills'])\n",
    "df['Data Science'] = label_encoder.fit_transform(df['Data Science'])\n",
    "df['Troubleshooting skills'] = label_encoder.fit_transform(df['Troubleshooting skills'])\n",
    "df['Graphics Designing'] = label_encoder.fit_transform(df['Graphics Designing'])\n",
    "\n",
    "df['Role'] = label_encoder.fit_transform(df['Role'])\n",
    "df.head()"
   ]
  },
  {
   "cell_type": "markdown",
   "metadata": {
    "papermill": {
     "duration": 0.055087,
     "end_time": "2020-10-23T17:08:57.120199",
     "exception": false,
     "start_time": "2020-10-23T17:08:57.065112",
     "status": "completed"
    },
    "tags": []
   },
   "source": [
    "## Train-Test Split"
   ]
  },
  {
   "cell_type": "code",
   "execution_count": 34,
   "metadata": {
    "execution": {
     "iopub.execute_input": "2020-10-23T17:08:57.237422Z",
     "iopub.status.busy": "2020-10-23T17:08:57.236473Z",
     "iopub.status.idle": "2020-10-23T17:08:57.242276Z",
     "shell.execute_reply": "2020-10-23T17:08:57.241476Z"
    },
    "papermill": {
     "duration": 0.067177,
     "end_time": "2020-10-23T17:08:57.242420",
     "exception": false,
     "start_time": "2020-10-23T17:08:57.175243",
     "status": "completed"
    },
    "tags": []
   },
   "outputs": [],
   "source": [
    "X = df.drop(['Role'], axis=1)\n",
    "y = df['Role']"
   ]
  },
  {
   "cell_type": "code",
   "execution_count": 35,
   "metadata": {
    "execution": {
     "iopub.execute_input": "2020-10-23T17:08:57.379424Z",
     "iopub.status.busy": "2020-10-23T17:08:57.377958Z",
     "iopub.status.idle": "2020-10-23T17:08:57.466497Z",
     "shell.execute_reply": "2020-10-23T17:08:57.465305Z"
    },
    "papermill": {
     "duration": 0.168276,
     "end_time": "2020-10-23T17:08:57.466720",
     "exception": false,
     "start_time": "2020-10-23T17:08:57.298444",
     "status": "completed"
    },
    "tags": []
   },
   "outputs": [
    {
     "data": {
      "text/plain": [
       "((7343, 17), (1836, 17))"
      ]
     },
     "execution_count": 35,
     "metadata": {},
     "output_type": "execute_result"
    }
   ],
   "source": [
    "# split X and y into training and testing sets\n",
    "from sklearn.model_selection import train_test_split\n",
    "\n",
    "X_train, X_test, y_train, y_test = train_test_split(X, y, test_size = 0.2, random_state = 999)\n",
    "X_train.shape, X_test.shape"
   ]
  },
  {
   "cell_type": "code",
   "execution_count": 36,
   "metadata": {
    "execution": {
     "iopub.execute_input": "2020-10-23T17:08:57.610939Z",
     "iopub.status.busy": "2020-10-23T17:08:57.609632Z",
     "iopub.status.idle": "2020-10-23T17:08:57.614409Z",
     "shell.execute_reply": "2020-10-23T17:08:57.615324Z"
    },
    "papermill": {
     "duration": 0.085795,
     "end_time": "2020-10-23T17:08:57.615574",
     "exception": false,
     "start_time": "2020-10-23T17:08:57.529779",
     "status": "completed"
    },
    "tags": []
   },
   "outputs": [
    {
     "data": {
      "text/html": [
       "<div>\n",
       "<style scoped>\n",
       "    .dataframe tbody tr th:only-of-type {\n",
       "        vertical-align: middle;\n",
       "    }\n",
       "\n",
       "    .dataframe tbody tr th {\n",
       "        vertical-align: top;\n",
       "    }\n",
       "\n",
       "    .dataframe thead th {\n",
       "        text-align: right;\n",
       "    }\n",
       "</style>\n",
       "<table border=\"1\" class=\"dataframe\">\n",
       "  <thead>\n",
       "    <tr style=\"text-align: right;\">\n",
       "      <th></th>\n",
       "      <th>Database Fundamentals</th>\n",
       "      <th>Computer Architecture</th>\n",
       "      <th>Distributed Computing Systems</th>\n",
       "      <th>Cyber Security</th>\n",
       "      <th>Networking</th>\n",
       "      <th>Software Development</th>\n",
       "      <th>Programming Skills</th>\n",
       "      <th>Project Management</th>\n",
       "      <th>Computer Forensics Fundamentals</th>\n",
       "      <th>Technical Communication</th>\n",
       "      <th>AI ML</th>\n",
       "      <th>Software Engineering</th>\n",
       "      <th>Business Analysis</th>\n",
       "      <th>Communication skills</th>\n",
       "      <th>Data Science</th>\n",
       "      <th>Troubleshooting skills</th>\n",
       "      <th>Graphics Designing</th>\n",
       "    </tr>\n",
       "  </thead>\n",
       "  <tbody>\n",
       "    <tr>\n",
       "      <th>6578</th>\n",
       "      <td>3</td>\n",
       "      <td>3</td>\n",
       "      <td>3</td>\n",
       "      <td>3</td>\n",
       "      <td>3</td>\n",
       "      <td>3</td>\n",
       "      <td>3</td>\n",
       "      <td>3</td>\n",
       "      <td>3</td>\n",
       "      <td>3</td>\n",
       "      <td>3</td>\n",
       "      <td>3</td>\n",
       "      <td>6</td>\n",
       "      <td>3</td>\n",
       "      <td>3</td>\n",
       "      <td>1</td>\n",
       "      <td>1</td>\n",
       "    </tr>\n",
       "    <tr>\n",
       "      <th>7615</th>\n",
       "      <td>5</td>\n",
       "      <td>0</td>\n",
       "      <td>0</td>\n",
       "      <td>0</td>\n",
       "      <td>0</td>\n",
       "      <td>0</td>\n",
       "      <td>0</td>\n",
       "      <td>0</td>\n",
       "      <td>0</td>\n",
       "      <td>0</td>\n",
       "      <td>0</td>\n",
       "      <td>0</td>\n",
       "      <td>0</td>\n",
       "      <td>0</td>\n",
       "      <td>6</td>\n",
       "      <td>0</td>\n",
       "      <td>0</td>\n",
       "    </tr>\n",
       "    <tr>\n",
       "      <th>6387</th>\n",
       "      <td>1</td>\n",
       "      <td>1</td>\n",
       "      <td>1</td>\n",
       "      <td>1</td>\n",
       "      <td>1</td>\n",
       "      <td>1</td>\n",
       "      <td>1</td>\n",
       "      <td>1</td>\n",
       "      <td>0</td>\n",
       "      <td>1</td>\n",
       "      <td>1</td>\n",
       "      <td>6</td>\n",
       "      <td>1</td>\n",
       "      <td>1</td>\n",
       "      <td>1</td>\n",
       "      <td>1</td>\n",
       "      <td>1</td>\n",
       "    </tr>\n",
       "    <tr>\n",
       "      <th>3556</th>\n",
       "      <td>3</td>\n",
       "      <td>3</td>\n",
       "      <td>3</td>\n",
       "      <td>3</td>\n",
       "      <td>3</td>\n",
       "      <td>3</td>\n",
       "      <td>6</td>\n",
       "      <td>3</td>\n",
       "      <td>3</td>\n",
       "      <td>3</td>\n",
       "      <td>3</td>\n",
       "      <td>3</td>\n",
       "      <td>3</td>\n",
       "      <td>3</td>\n",
       "      <td>3</td>\n",
       "      <td>3</td>\n",
       "      <td>3</td>\n",
       "    </tr>\n",
       "    <tr>\n",
       "      <th>4546</th>\n",
       "      <td>5</td>\n",
       "      <td>5</td>\n",
       "      <td>5</td>\n",
       "      <td>5</td>\n",
       "      <td>5</td>\n",
       "      <td>5</td>\n",
       "      <td>5</td>\n",
       "      <td>5</td>\n",
       "      <td>6</td>\n",
       "      <td>5</td>\n",
       "      <td>5</td>\n",
       "      <td>5</td>\n",
       "      <td>5</td>\n",
       "      <td>5</td>\n",
       "      <td>5</td>\n",
       "      <td>3</td>\n",
       "      <td>3</td>\n",
       "    </tr>\n",
       "  </tbody>\n",
       "</table>\n",
       "</div>"
      ],
      "text/plain": [
       "      Database Fundamentals  Computer Architecture  \\\n",
       "6578                      3                      3   \n",
       "7615                      5                      0   \n",
       "6387                      1                      1   \n",
       "3556                      3                      3   \n",
       "4546                      5                      5   \n",
       "\n",
       "      Distributed Computing Systems  Cyber Security  Networking  \\\n",
       "6578                              3               3           3   \n",
       "7615                              0               0           0   \n",
       "6387                              1               1           1   \n",
       "3556                              3               3           3   \n",
       "4546                              5               5           5   \n",
       "\n",
       "      Software Development  Programming Skills  Project Management  \\\n",
       "6578                     3                   3                   3   \n",
       "7615                     0                   0                   0   \n",
       "6387                     1                   1                   1   \n",
       "3556                     3                   6                   3   \n",
       "4546                     5                   5                   5   \n",
       "\n",
       "      Computer Forensics Fundamentals  Technical Communication  AI ML  \\\n",
       "6578                                3                        3      3   \n",
       "7615                                0                        0      0   \n",
       "6387                                0                        1      1   \n",
       "3556                                3                        3      3   \n",
       "4546                                6                        5      5   \n",
       "\n",
       "      Software Engineering  Business Analysis  Communication skills  \\\n",
       "6578                     3                  6                     3   \n",
       "7615                     0                  0                     0   \n",
       "6387                     6                  1                     1   \n",
       "3556                     3                  3                     3   \n",
       "4546                     5                  5                     5   \n",
       "\n",
       "      Data Science  Troubleshooting skills  Graphics Designing  \n",
       "6578             3                       1                   1  \n",
       "7615             6                       0                   0  \n",
       "6387             1                       1                   1  \n",
       "3556             3                       3                   3  \n",
       "4546             5                       3                   3  "
      ]
     },
     "execution_count": 36,
     "metadata": {},
     "output_type": "execute_result"
    }
   ],
   "source": [
    "X_train.head()"
   ]
  },
  {
   "cell_type": "code",
   "execution_count": 37,
   "metadata": {
    "execution": {
     "iopub.execute_input": "2020-10-23T17:08:57.743726Z",
     "iopub.status.busy": "2020-10-23T17:08:57.742692Z",
     "iopub.status.idle": "2020-10-23T17:08:57.747869Z",
     "shell.execute_reply": "2020-10-23T17:08:57.747105Z"
    },
    "papermill": {
     "duration": 0.06998,
     "end_time": "2020-10-23T17:08:57.748004",
     "exception": false,
     "start_time": "2020-10-23T17:08:57.678024",
     "status": "completed"
    },
    "tags": []
   },
   "outputs": [
    {
     "data": {
      "text/plain": [
       "(7343, 17)"
      ]
     },
     "execution_count": 37,
     "metadata": {},
     "output_type": "execute_result"
    }
   ],
   "source": [
    "X_train.shape"
   ]
  },
  {
   "cell_type": "code",
   "execution_count": 38,
   "metadata": {
    "execution": {
     "iopub.execute_input": "2020-10-23T17:08:57.881941Z",
     "iopub.status.busy": "2020-10-23T17:08:57.880981Z",
     "iopub.status.idle": "2020-10-23T17:08:57.885851Z",
     "shell.execute_reply": "2020-10-23T17:08:57.885237Z"
    },
    "papermill": {
     "duration": 0.079108,
     "end_time": "2020-10-23T17:08:57.886001",
     "exception": false,
     "start_time": "2020-10-23T17:08:57.806893",
     "status": "completed"
    },
    "tags": []
   },
   "outputs": [
    {
     "data": {
      "text/html": [
       "<div>\n",
       "<style scoped>\n",
       "    .dataframe tbody tr th:only-of-type {\n",
       "        vertical-align: middle;\n",
       "    }\n",
       "\n",
       "    .dataframe tbody tr th {\n",
       "        vertical-align: top;\n",
       "    }\n",
       "\n",
       "    .dataframe thead th {\n",
       "        text-align: right;\n",
       "    }\n",
       "</style>\n",
       "<table border=\"1\" class=\"dataframe\">\n",
       "  <thead>\n",
       "    <tr style=\"text-align: right;\">\n",
       "      <th></th>\n",
       "      <th>Database Fundamentals</th>\n",
       "      <th>Computer Architecture</th>\n",
       "      <th>Distributed Computing Systems</th>\n",
       "      <th>Cyber Security</th>\n",
       "      <th>Networking</th>\n",
       "      <th>Software Development</th>\n",
       "      <th>Programming Skills</th>\n",
       "      <th>Project Management</th>\n",
       "      <th>Computer Forensics Fundamentals</th>\n",
       "      <th>Technical Communication</th>\n",
       "      <th>AI ML</th>\n",
       "      <th>Software Engineering</th>\n",
       "      <th>Business Analysis</th>\n",
       "      <th>Communication skills</th>\n",
       "      <th>Data Science</th>\n",
       "      <th>Troubleshooting skills</th>\n",
       "      <th>Graphics Designing</th>\n",
       "    </tr>\n",
       "  </thead>\n",
       "  <tbody>\n",
       "    <tr>\n",
       "      <th>8392</th>\n",
       "      <td>4</td>\n",
       "      <td>4</td>\n",
       "      <td>4</td>\n",
       "      <td>4</td>\n",
       "      <td>4</td>\n",
       "      <td>4</td>\n",
       "      <td>4</td>\n",
       "      <td>4</td>\n",
       "      <td>3</td>\n",
       "      <td>4</td>\n",
       "      <td>4</td>\n",
       "      <td>4</td>\n",
       "      <td>4</td>\n",
       "      <td>4</td>\n",
       "      <td>4</td>\n",
       "      <td>6</td>\n",
       "      <td>4</td>\n",
       "    </tr>\n",
       "    <tr>\n",
       "      <th>7992</th>\n",
       "      <td>4</td>\n",
       "      <td>4</td>\n",
       "      <td>4</td>\n",
       "      <td>4</td>\n",
       "      <td>4</td>\n",
       "      <td>4</td>\n",
       "      <td>4</td>\n",
       "      <td>4</td>\n",
       "      <td>4</td>\n",
       "      <td>4</td>\n",
       "      <td>4</td>\n",
       "      <td>4</td>\n",
       "      <td>4</td>\n",
       "      <td>4</td>\n",
       "      <td>6</td>\n",
       "      <td>4</td>\n",
       "      <td>4</td>\n",
       "    </tr>\n",
       "    <tr>\n",
       "      <th>2728</th>\n",
       "      <td>3</td>\n",
       "      <td>3</td>\n",
       "      <td>3</td>\n",
       "      <td>3</td>\n",
       "      <td>3</td>\n",
       "      <td>6</td>\n",
       "      <td>3</td>\n",
       "      <td>3</td>\n",
       "      <td>3</td>\n",
       "      <td>3</td>\n",
       "      <td>3</td>\n",
       "      <td>3</td>\n",
       "      <td>3</td>\n",
       "      <td>3</td>\n",
       "      <td>3</td>\n",
       "      <td>3</td>\n",
       "      <td>3</td>\n",
       "    </tr>\n",
       "    <tr>\n",
       "      <th>653</th>\n",
       "      <td>4</td>\n",
       "      <td>6</td>\n",
       "      <td>4</td>\n",
       "      <td>4</td>\n",
       "      <td>4</td>\n",
       "      <td>2</td>\n",
       "      <td>4</td>\n",
       "      <td>4</td>\n",
       "      <td>4</td>\n",
       "      <td>4</td>\n",
       "      <td>4</td>\n",
       "      <td>4</td>\n",
       "      <td>4</td>\n",
       "      <td>4</td>\n",
       "      <td>4</td>\n",
       "      <td>4</td>\n",
       "      <td>4</td>\n",
       "    </tr>\n",
       "    <tr>\n",
       "      <th>8701</th>\n",
       "      <td>2</td>\n",
       "      <td>2</td>\n",
       "      <td>2</td>\n",
       "      <td>2</td>\n",
       "      <td>2</td>\n",
       "      <td>2</td>\n",
       "      <td>2</td>\n",
       "      <td>2</td>\n",
       "      <td>2</td>\n",
       "      <td>2</td>\n",
       "      <td>5</td>\n",
       "      <td>2</td>\n",
       "      <td>2</td>\n",
       "      <td>2</td>\n",
       "      <td>2</td>\n",
       "      <td>2</td>\n",
       "      <td>6</td>\n",
       "    </tr>\n",
       "  </tbody>\n",
       "</table>\n",
       "</div>"
      ],
      "text/plain": [
       "      Database Fundamentals  Computer Architecture  \\\n",
       "8392                      4                      4   \n",
       "7992                      4                      4   \n",
       "2728                      3                      3   \n",
       "653                       4                      6   \n",
       "8701                      2                      2   \n",
       "\n",
       "      Distributed Computing Systems  Cyber Security  Networking  \\\n",
       "8392                              4               4           4   \n",
       "7992                              4               4           4   \n",
       "2728                              3               3           3   \n",
       "653                               4               4           4   \n",
       "8701                              2               2           2   \n",
       "\n",
       "      Software Development  Programming Skills  Project Management  \\\n",
       "8392                     4                   4                   4   \n",
       "7992                     4                   4                   4   \n",
       "2728                     6                   3                   3   \n",
       "653                      2                   4                   4   \n",
       "8701                     2                   2                   2   \n",
       "\n",
       "      Computer Forensics Fundamentals  Technical Communication  AI ML  \\\n",
       "8392                                3                        4      4   \n",
       "7992                                4                        4      4   \n",
       "2728                                3                        3      3   \n",
       "653                                 4                        4      4   \n",
       "8701                                2                        2      5   \n",
       "\n",
       "      Software Engineering  Business Analysis  Communication skills  \\\n",
       "8392                     4                  4                     4   \n",
       "7992                     4                  4                     4   \n",
       "2728                     3                  3                     3   \n",
       "653                      4                  4                     4   \n",
       "8701                     2                  2                     2   \n",
       "\n",
       "      Data Science  Troubleshooting skills  Graphics Designing  \n",
       "8392             4                       6                   4  \n",
       "7992             6                       4                   4  \n",
       "2728             3                       3                   3  \n",
       "653              4                       4                   4  \n",
       "8701             2                       2                   6  "
      ]
     },
     "execution_count": 38,
     "metadata": {},
     "output_type": "execute_result"
    }
   ],
   "source": [
    "X_test.head()"
   ]
  },
  {
   "cell_type": "code",
   "execution_count": 39,
   "metadata": {
    "execution": {
     "iopub.execute_input": "2020-10-23T17:08:58.010563Z",
     "iopub.status.busy": "2020-10-23T17:08:58.009690Z",
     "iopub.status.idle": "2020-10-23T17:08:58.013721Z",
     "shell.execute_reply": "2020-10-23T17:08:58.014265Z"
    },
    "papermill": {
     "duration": 0.069293,
     "end_time": "2020-10-23T17:08:58.014433",
     "exception": false,
     "start_time": "2020-10-23T17:08:57.945140",
     "status": "completed"
    },
    "tags": []
   },
   "outputs": [
    {
     "data": {
      "text/plain": [
       "(1836, 17)"
      ]
     },
     "execution_count": 39,
     "metadata": {},
     "output_type": "execute_result"
    }
   ],
   "source": [
    "X_test.shape"
   ]
  },
  {
   "cell_type": "code",
   "execution_count": 40,
   "metadata": {
    "execution": {
     "iopub.execute_input": "2020-10-23T17:08:58.560032Z",
     "iopub.status.busy": "2020-10-23T17:08:58.559015Z",
     "iopub.status.idle": "2020-10-23T17:08:58.563353Z",
     "shell.execute_reply": "2020-10-23T17:08:58.562709Z"
    },
    "papermill": {
     "duration": 0.073488,
     "end_time": "2020-10-23T17:08:58.563483",
     "exception": false,
     "start_time": "2020-10-23T17:08:58.489995",
     "status": "completed"
    },
    "tags": []
   },
   "outputs": [],
   "source": [
    "from sklearn.metrics import accuracy_score"
   ]
  },
  {
   "cell_type": "code",
   "execution_count": 41,
   "metadata": {
    "execution": {
     "iopub.execute_input": "2020-10-23T17:08:58.834192Z",
     "iopub.status.busy": "2020-10-23T17:08:58.832258Z",
     "iopub.status.idle": "2020-10-23T17:08:58.839868Z",
     "shell.execute_reply": "2020-10-23T17:08:58.838905Z"
    },
    "papermill": {
     "duration": 0.07625,
     "end_time": "2020-10-23T17:08:58.840034",
     "exception": false,
     "start_time": "2020-10-23T17:08:58.763784",
     "status": "completed"
    },
    "tags": []
   },
   "outputs": [],
   "source": [
    "from sklearn.metrics import confusion_matrix"
   ]
  },
  {
   "cell_type": "markdown",
   "metadata": {
    "papermill": {
     "duration": 0.065577,
     "end_time": "2020-10-23T17:08:59.437432",
     "exception": false,
     "start_time": "2020-10-23T17:08:59.371855",
     "status": "completed"
    },
    "tags": []
   },
   "source": [
    "## Decision Tree Classifier"
   ]
  },
  {
   "cell_type": "code",
   "execution_count": 42,
   "metadata": {
    "execution": {
     "iopub.execute_input": "2020-10-23T17:08:59.574713Z",
     "iopub.status.busy": "2020-10-23T17:08:59.573776Z",
     "iopub.status.idle": "2020-10-23T17:08:59.874967Z",
     "shell.execute_reply": "2020-10-23T17:08:59.873981Z"
    },
    "papermill": {
     "duration": 0.373058,
     "end_time": "2020-10-23T17:08:59.875113",
     "exception": false,
     "start_time": "2020-10-23T17:08:59.502055",
     "status": "completed"
    },
    "tags": []
   },
   "outputs": [],
   "source": [
    "from sklearn.tree import DecisionTreeClassifier\n",
    "from sklearn import metrics\n",
    "# Create Decision Tree classifer object\n",
    "clf = DecisionTreeClassifier(criterion=\"gini\", max_depth=15, random_state=999)\n",
    "\n",
    "# Train Decision Tree Classifer\n",
    "clf = clf.fit(X_train,y_train)\n",
    "\n",
    "# Predict the response for test dataset\n",
    "y_pred2 = clf.predict(X_test)"
   ]
  },
  {
   "cell_type": "code",
   "execution_count": 43,
   "metadata": {
    "execution": {
     "iopub.execute_input": "2020-10-23T17:09:00.012250Z",
     "iopub.status.busy": "2020-10-23T17:09:00.011230Z",
     "iopub.status.idle": "2020-10-23T17:09:00.017113Z",
     "shell.execute_reply": "2020-10-23T17:09:00.016096Z"
    },
    "papermill": {
     "duration": 0.076431,
     "end_time": "2020-10-23T17:09:00.017251",
     "exception": false,
     "start_time": "2020-10-23T17:08:59.940820",
     "status": "completed"
    },
    "tags": []
   },
   "outputs": [
    {
     "name": "stdout",
     "output_type": "stream",
     "text": [
      "Model accuracy score: 0.9314\n"
     ]
    }
   ],
   "source": [
    "print('Model accuracy score: {0:0.4f}'. format(accuracy_score(y_test, y_pred2)))"
   ]
  },
  {
   "cell_type": "code",
   "execution_count": 44,
   "metadata": {
    "execution": {
     "iopub.execute_input": "2020-10-23T17:09:00.157229Z",
     "iopub.status.busy": "2020-10-23T17:09:00.156257Z",
     "iopub.status.idle": "2020-10-23T17:09:00.162196Z",
     "shell.execute_reply": "2020-10-23T17:09:00.161498Z"
    },
    "papermill": {
     "duration": 0.079817,
     "end_time": "2020-10-23T17:09:00.162329",
     "exception": false,
     "start_time": "2020-10-23T17:09:00.082512",
     "status": "completed"
    },
    "tags": []
   },
   "outputs": [
    {
     "name": "stdout",
     "output_type": "stream",
     "text": [
      "Training-set accuracy score: 0.9436\n"
     ]
    }
   ],
   "source": [
    "y_pred_train2 = clf.predict(X_train)\n",
    "print('Training-set accuracy score: {0:0.4f}'. format(accuracy_score(y_train, y_pred_train2)))"
   ]
  },
  {
   "cell_type": "code",
   "execution_count": 45,
   "metadata": {
    "execution": {
     "iopub.execute_input": "2020-10-23T17:09:05.743015Z",
     "iopub.status.busy": "2020-10-23T17:09:05.742144Z",
     "iopub.status.idle": "2020-10-23T17:09:05.750772Z",
     "shell.execute_reply": "2020-10-23T17:09:05.749888Z"
    },
    "papermill": {
     "duration": 0.086916,
     "end_time": "2020-10-23T17:09:05.750951",
     "exception": false,
     "start_time": "2020-10-23T17:09:05.664035",
     "status": "completed"
    },
    "tags": []
   },
   "outputs": [
    {
     "name": "stdout",
     "output_type": "stream",
     "text": [
      "Accuracy Score : 0.9313725490196079\n",
      "[[115   0   0   0   0   0   0   0   0   0   0   0   0   0   0   0   0]\n",
      " [  0 106   0   0   0   0   0   0   0   0   0   0   0   0   0   0   0]\n",
      " [  0   0 105   0   0   0   0   0   0   0   0   0   0   0   0   0   0]\n",
      " [  0   0   0 104   0   0   0   0   0   0   0   0   0   0   0   0   0]\n",
      " [  0   0   0   0 101   0   0   0   0   0   0   0   0   0   0   0   0]\n",
      " [  0   0   0   0   0 108   0   0   0   0   0   0   0   0   0   0   0]\n",
      " [  0   0   0   0   0   0 101   0   0   0   0   0   0   0   0   0   0]\n",
      " [  0   0   0   0   0   0   0 109   0   0   0   0   0   0   0   0   0]\n",
      " [  0   0   0   0   0   0   0   0 124   0   0   0   0   0   0   0   0]\n",
      " [  0   0   0   0   0   0   0   0   0 120   0   0   0   0   0   0   0]\n",
      " [  0   0   0   0   0   0   0   0   0   0 100   0   0   0   0   0   0]\n",
      " [  0   0   0   0   0   0   0   0   0   0   0 108   0   0   0   0   0]\n",
      " [  0   0   0   0   0   0   0   0 126   0   0   0   0   0   0   0   0]\n",
      " [  0   0   0   0   0   0   0   0   0   0   0   0   0 105   0   0   0]\n",
      " [  0   0   0   0   0   0   0   0   0   0   0   0   0   0  92   0   0]\n",
      " [  0   0   0   0   0   0   0   0   0   0   0   0   0   0   0 106   0]\n",
      " [  0   0   0   0   0   0   0   0   0   0   0   0   0   0   0   0 106]]\n"
     ]
    }
   ],
   "source": [
    "y_pred_acc = clf.predict(X_test)\n",
    "\n",
    "# New Model Evaluation metrics \n",
    "print('Accuracy Score : ' + str(accuracy_score(y_test,y_pred_acc)))\n",
    "\n",
    "#Confusion matrix\n",
    "cm = confusion_matrix(y_test,y_pred_acc)\n",
    "print(cm)"
   ]
  },
  {
   "cell_type": "code",
   "execution_count": 46,
   "metadata": {
    "execution": {
     "iopub.execute_input": "2020-10-23T17:09:05.909949Z",
     "iopub.status.busy": "2020-10-23T17:09:05.907312Z",
     "iopub.status.idle": "2020-10-23T17:09:06.085991Z",
     "shell.execute_reply": "2020-10-23T17:09:06.085322Z"
    },
    "papermill": {
     "duration": 0.263486,
     "end_time": "2020-10-23T17:09:06.086132",
     "exception": false,
     "start_time": "2020-10-23T17:09:05.822646",
     "status": "completed"
    },
    "tags": []
   },
   "outputs": [
    {
     "data": {
      "image/png": "[encoded data removed]",
      "text/plain": [
       "<Figure size 640x480 with 2 Axes>"
      ]
     },
     "metadata": {},
     "output_type": "display_data"
    }
   ],
   "source": [
    "cm_matrix = pd.DataFrame(data=cm)\n",
    "sns.heatmap(cm_matrix, annot=True, fmt='d', cmap='YlGnBu')\n",
    "plt.show()"
   ]
  },
  {
   "cell_type": "code",
   "execution_count": 47,
   "metadata": {
    "execution": {
     "iopub.execute_input": "2020-10-23T17:09:06.236176Z",
     "iopub.status.busy": "2020-10-23T17:09:06.235334Z",
     "iopub.status.idle": "2020-10-23T17:09:06.246594Z",
     "shell.execute_reply": "2020-10-23T17:09:06.247188Z"
    },
    "papermill": {
     "duration": 0.089278,
     "end_time": "2020-10-23T17:09:06.247370",
     "exception": false,
     "start_time": "2020-10-23T17:09:06.158092",
     "status": "completed"
    },
    "tags": []
   },
   "outputs": [
    {
     "name": "stdout",
     "output_type": "stream",
     "text": [
      "              precision    recall  f1-score   support\n",
      "\n",
      "           0       1.00      1.00      1.00       115\n",
      "           1       1.00      1.00      1.00       106\n",
      "           2       1.00      1.00      1.00       105\n",
      "           3       1.00      1.00      1.00       104\n",
      "           4       1.00      1.00      1.00       101\n",
      "           5       1.00      1.00      1.00       108\n",
      "           6       1.00      1.00      1.00       101\n",
      "           7       1.00      1.00      1.00       109\n",
      "           8       0.50      1.00      0.66       124\n",
      "           9       1.00      1.00      1.00       120\n",
      "          10       1.00      1.00      1.00       100\n",
      "          11       1.00      1.00      1.00       108\n",
      "          12       0.00      0.00      0.00       126\n",
      "          13       1.00      1.00      1.00       105\n",
      "          14       1.00      1.00      1.00        92\n",
      "          15       1.00      1.00      1.00       106\n",
      "          16       1.00      1.00      1.00       106\n",
      "\n",
      "    accuracy                           0.93      1836\n",
      "   macro avg       0.91      0.94      0.92      1836\n",
      "weighted avg       0.90      0.93      0.91      1836\n",
      "\n"
     ]
    },
    {
     "name": "stderr",
     "output_type": "stream",
     "text": [
      "D:\\anaconda3\\envs\\FinalYear\\lib\\site-packages\\sklearn\\metrics\\_classification.py:1318: UndefinedMetricWarning: Precision and F-score are ill-defined and being set to 0.0 in labels with no predicted samples. Use `zero_division` parameter to control this behavior.\n",
      "  _warn_prf(average, modifier, msg_start, len(result))\n",
      "D:\\anaconda3\\envs\\FinalYear\\lib\\site-packages\\sklearn\\metrics\\_classification.py:1318: UndefinedMetricWarning: Precision and F-score are ill-defined and being set to 0.0 in labels with no predicted samples. Use `zero_division` parameter to control this behavior.\n",
      "  _warn_prf(average, modifier, msg_start, len(result))\n",
      "D:\\anaconda3\\envs\\FinalYear\\lib\\site-packages\\sklearn\\metrics\\_classification.py:1318: UndefinedMetricWarning: Precision and F-score are ill-defined and being set to 0.0 in labels with no predicted samples. Use `zero_division` parameter to control this behavior.\n",
      "  _warn_prf(average, modifier, msg_start, len(result))\n"
     ]
    }
   ],
   "source": [
    "from sklearn.metrics import classification_report\n",
    "\n",
    "print(classification_report(y_test, y_pred2))"
   ]
  },
  {
   "cell_type": "code",
   "execution_count": 49,
   "metadata": {},
   "outputs": [
    {
     "name": "stdout",
     "output_type": "stream",
     "text": [
      "Pickle File Created\n"
     ]
    }
   ],
   "source": [
    "import pickle\n",
    "pickle.dump(clf, open('bestmodel.pkl','wb'))\n",
    "print('Pickle File Created')"
   ]
  }
 ],
 "metadata": {
  "kernelspec": {
   "display_name": "Python [conda env:FinalYear]",
   "language": "python",
   "name": "conda-env-FinalYear-py"
  },
  "language_info": {
   "codemirror_mode": {
    "name": "ipython",
    "version": 3
   },
   "file_extension": ".py",
   "mimetype": "text/x-python",
   "name": "python",
   "nbconvert_exporter": "python",
   "pygments_lexer": "ipython3",
   "version": "3.7.13"
  },
  "nteract": {
   "version": "0.28.0"
  },
  "papermill": {
   "duration": 96.89573,
   "end_time": "2020-10-23T17:10:24.264763",
   "environment_variables": {},
   "exception": null,
   "input_path": "__notebook__.ipynb",
   "output_path": "__notebook__.ipynb",
   "parameters": {},
   "start_time": "2020-10-23T17:08:47.369033",
   "version": "2.1.0"
  }
 },
 "nbformat": 4,
 "nbformat_minor": 4
}
