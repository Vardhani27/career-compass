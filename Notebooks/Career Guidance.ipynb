{
  "cells": [
    {
      "cell_type": "markdown",
      "source": [
        "\n"
      ],
      "metadata": {
        "papermill": {
          "duration": 0.042551,
          "end_time": "2020-10-23T17:08:52.638595",
          "exception": false,
          "start_time": "2020-10-23T17:08:52.596044",
          "status": "completed"
        },
        "tags": []
      }
    },
    {
      "cell_type": "code",
      "source": [
        "import numpy as np \n",
        "import pandas as pd \n",
        "import matplotlib.pyplot as plt \n",
        "import seaborn as sns \n",
        "%matplotlib inline"
      ],
      "outputs": [],
      "execution_count": 1,
      "metadata": {
        "_cell_guid": "b1076dfc-b9ad-4769-8c92-a6c4dae69d19",
        "_uuid": "8f2839f25d086af736a60e9eeb907d3b93b6e0e5",
        "execution": {
          "iopub.execute_input": "2020-10-23T17:08:52.729200Z",
          "iopub.status.busy": "2020-10-23T17:08:52.728268Z",
          "iopub.status.idle": "2020-10-23T17:08:53.853985Z",
          "shell.execute_reply": "2020-10-23T17:08:53.853080Z"
        },
        "papermill": {
          "duration": 1.174266,
          "end_time": "2020-10-23T17:08:53.854149",
          "exception": false,
          "start_time": "2020-10-23T17:08:52.679883",
          "status": "completed"
        },
        "tags": []
      }
    },
    {
      "cell_type": "code",
      "source": [
        "df = pd.read_csv('dataset9000.csv', sep=',')"
      ],
      "outputs": [],
      "execution_count": 11,
      "metadata": {
        "_cell_guid": "79c7e3d0-c299-4dcb-8224-4455121ee9b0",
        "_uuid": "d629ff2d2480ee46fbb7e2d37f6b5fab8052498a",
        "execution": {
          "iopub.execute_input": "2020-10-23T17:08:53.947434Z",
          "iopub.status.busy": "2020-10-23T17:08:53.946661Z",
          "iopub.status.idle": "2020-10-23T17:08:53.963727Z",
          "shell.execute_reply": "2020-10-23T17:08:53.962879Z"
        },
        "papermill": {
          "duration": 0.068216,
          "end_time": "2020-10-23T17:08:53.963864",
          "exception": false,
          "start_time": "2020-10-23T17:08:53.895648",
          "status": "completed"
        },
        "tags": []
      }
    },
    {
      "cell_type": "code",
      "source": [
        "df.head()"
      ],
      "outputs": [
        {
          "output_type": "execute_result",
          "execution_count": 12,
          "data": {
            "text/html": "<div>\n<style scoped>\n    .dataframe tbody tr th:only-of-type {\n        vertical-align: middle;\n    }\n\n    .dataframe tbody tr th {\n        vertical-align: top;\n    }\n\n    .dataframe thead th {\n        text-align: right;\n    }\n</style>\n<table border=\"1\" class=\"dataframe\">\n  <thead>\n    <tr style=\"text-align: right;\">\n      <th></th>\n      <th>Database Fundamentals</th>\n      <th>Computer Architecture</th>\n      <th>Distributed Computing Systems</th>\n      <th>Cyber Security</th>\n      <th>Networking</th>\n      <th>Software Development</th>\n      <th>Programming Skills</th>\n      <th>Project Management</th>\n      <th>Computer Forensics Fundamentals</th>\n      <th>Technical Communication</th>\n      <th>AI ML</th>\n      <th>Software Engineering</th>\n      <th>Business Analysis</th>\n      <th>Communication skills</th>\n      <th>Data Science</th>\n      <th>Troubleshooting skills</th>\n      <th>Graphics Designing</th>\n      <th>Role</th>\n    </tr>\n  </thead>\n  <tbody>\n    <tr>\n      <th>0</th>\n      <td>Professional</td>\n      <td>Not Interested</td>\n      <td>Not Interested</td>\n      <td>Not Interested</td>\n      <td>Not Interested</td>\n      <td>Not Interested</td>\n      <td>Not Interested</td>\n      <td>Not Interested</td>\n      <td>Not Interested</td>\n      <td>Not Interested</td>\n      <td>Not Interested</td>\n      <td>Not Interested</td>\n      <td>Not Interested</td>\n      <td>Not Interested</td>\n      <td>Not Interested</td>\n      <td>Not Interested</td>\n      <td>Not Interested</td>\n      <td>Database Administrator</td>\n    </tr>\n    <tr>\n      <th>1</th>\n      <td>Professional</td>\n      <td>Poor</td>\n      <td>Not Interested</td>\n      <td>Not Interested</td>\n      <td>Not Interested</td>\n      <td>Not Interested</td>\n      <td>Not Interested</td>\n      <td>Not Interested</td>\n      <td>Not Interested</td>\n      <td>Not Interested</td>\n      <td>Not Interested</td>\n      <td>Not Interested</td>\n      <td>Not Interested</td>\n      <td>Not Interested</td>\n      <td>Not Interested</td>\n      <td>Not Interested</td>\n      <td>Not Interested</td>\n      <td>Database Administrator</td>\n    </tr>\n    <tr>\n      <th>2</th>\n      <td>Professional</td>\n      <td>Beginner</td>\n      <td>Not Interested</td>\n      <td>Not Interested</td>\n      <td>Not Interested</td>\n      <td>Not Interested</td>\n      <td>Not Interested</td>\n      <td>Not Interested</td>\n      <td>Not Interested</td>\n      <td>Not Interested</td>\n      <td>Not Interested</td>\n      <td>Not Interested</td>\n      <td>Not Interested</td>\n      <td>Not Interested</td>\n      <td>Not Interested</td>\n      <td>Not Interested</td>\n      <td>Not Interested</td>\n      <td>Database Administrator</td>\n    </tr>\n    <tr>\n      <th>3</th>\n      <td>Professional</td>\n      <td>Average</td>\n      <td>Not Interested</td>\n      <td>Not Interested</td>\n      <td>Not Interested</td>\n      <td>Not Interested</td>\n      <td>Not Interested</td>\n      <td>Not Interested</td>\n      <td>Not Interested</td>\n      <td>Not Interested</td>\n      <td>Not Interested</td>\n      <td>Not Interested</td>\n      <td>Not Interested</td>\n      <td>Not Interested</td>\n      <td>Not Interested</td>\n      <td>Not Interested</td>\n      <td>Not Interested</td>\n      <td>Database Administrator</td>\n    </tr>\n    <tr>\n      <th>4</th>\n      <td>Professional</td>\n      <td>Intermediate</td>\n      <td>Not Interested</td>\n      <td>Not Interested</td>\n      <td>Not Interested</td>\n      <td>Not Interested</td>\n      <td>Not Interested</td>\n      <td>Not Interested</td>\n      <td>Not Interested</td>\n      <td>Not Interested</td>\n      <td>Not Interested</td>\n      <td>Not Interested</td>\n      <td>Not Interested</td>\n      <td>Not Interested</td>\n      <td>Not Interested</td>\n      <td>Not Interested</td>\n      <td>Not Interested</td>\n      <td>Database Administrator</td>\n    </tr>\n  </tbody>\n</table>\n</div>",
            "text/plain": "  Database Fundamentals Computer Architecture Distributed Computing Systems  \\\n0          Professional        Not Interested                Not Interested   \n1          Professional                  Poor                Not Interested   \n2          Professional              Beginner                Not Interested   \n3          Professional               Average                Not Interested   \n4          Professional          Intermediate                Not Interested   \n\n   Cyber Security      Networking Software Development Programming Skills  \\\n0  Not Interested  Not Interested       Not Interested     Not Interested   \n1  Not Interested  Not Interested       Not Interested     Not Interested   \n2  Not Interested  Not Interested       Not Interested     Not Interested   \n3  Not Interested  Not Interested       Not Interested     Not Interested   \n4  Not Interested  Not Interested       Not Interested     Not Interested   \n\n  Project Management Computer Forensics Fundamentals Technical Communication  \\\n0     Not Interested                  Not Interested          Not Interested   \n1     Not Interested                  Not Interested          Not Interested   \n2     Not Interested                  Not Interested          Not Interested   \n3     Not Interested                  Not Interested          Not Interested   \n4     Not Interested                  Not Interested          Not Interested   \n\n            AI ML Software Engineering Business Analysis Communication skills  \\\n0  Not Interested       Not Interested    Not Interested       Not Interested   \n1  Not Interested       Not Interested    Not Interested       Not Interested   \n2  Not Interested       Not Interested    Not Interested       Not Interested   \n3  Not Interested       Not Interested    Not Interested       Not Interested   \n4  Not Interested       Not Interested    Not Interested       Not Interested   \n\n     Data Science Troubleshooting skills Graphics Designing  \\\n0  Not Interested         Not Interested     Not Interested   \n1  Not Interested         Not Interested     Not Interested   \n2  Not Interested         Not Interested     Not Interested   \n3  Not Interested         Not Interested     Not Interested   \n4  Not Interested         Not Interested     Not Interested   \n\n                     Role  \n0  Database Administrator  \n1  Database Administrator  \n2  Database Administrator  \n3  Database Administrator  \n4  Database Administrator  "
          },
          "metadata": {}
        }
      ],
      "execution_count": 12,
      "metadata": {
        "execution": {
          "iopub.execute_input": "2020-10-23T17:08:54.069754Z",
          "iopub.status.busy": "2020-10-23T17:08:54.068663Z",
          "iopub.status.idle": "2020-10-23T17:08:54.082837Z",
          "shell.execute_reply": "2020-10-23T17:08:54.083429Z"
        },
        "papermill": {
          "duration": 0.077885,
          "end_time": "2020-10-23T17:08:54.083617",
          "exception": false,
          "start_time": "2020-10-23T17:08:54.005732",
          "status": "completed"
        },
        "tags": []
      }
    },
    {
      "cell_type": "code",
      "source": [
        "df.shape"
      ],
      "outputs": [
        {
          "output_type": "execute_result",
          "execution_count": 13,
          "data": {
            "text/plain": "(9179, 18)"
          },
          "metadata": {}
        }
      ],
      "execution_count": 13,
      "metadata": {
        "execution": {
          "iopub.execute_input": "2020-10-23T17:08:54.175902Z",
          "iopub.status.busy": "2020-10-23T17:08:54.174767Z",
          "iopub.status.idle": "2020-10-23T17:08:54.179445Z",
          "shell.execute_reply": "2020-10-23T17:08:54.178682Z"
        },
        "papermill": {
          "duration": 0.053026,
          "end_time": "2020-10-23T17:08:54.179592",
          "exception": false,
          "start_time": "2020-10-23T17:08:54.126566",
          "status": "completed"
        },
        "tags": []
      }
    },
    {
      "cell_type": "code",
      "source": [
        "df.columns"
      ],
      "outputs": [
        {
          "output_type": "execute_result",
          "execution_count": 14,
          "data": {
            "text/plain": "Index(['Database Fundamentals', 'Computer Architecture',\n       'Distributed Computing Systems', 'Cyber Security', 'Networking',\n       'Software Development', 'Programming Skills', 'Project Management',\n       'Computer Forensics Fundamentals', 'Technical Communication', 'AI ML',\n       'Software Engineering', 'Business Analysis', 'Communication skills',\n       'Data Science', 'Troubleshooting skills', 'Graphics Designing', 'Role'],\n      dtype='object')"
          },
          "metadata": {}
        }
      ],
      "execution_count": 14,
      "metadata": {
        "execution": {
          "iopub.execute_input": "2020-10-23T17:08:54.273491Z",
          "iopub.status.busy": "2020-10-23T17:08:54.272368Z",
          "iopub.status.idle": "2020-10-23T17:08:54.277508Z",
          "shell.execute_reply": "2020-10-23T17:08:54.276923Z"
        },
        "papermill": {
          "duration": 0.054496,
          "end_time": "2020-10-23T17:08:54.277661",
          "exception": false,
          "start_time": "2020-10-23T17:08:54.223165",
          "status": "completed"
        },
        "tags": []
      }
    },
    {
      "cell_type": "code",
      "source": [
        "df.info()"
      ],
      "outputs": [
        {
          "output_type": "stream",
          "name": "stdout",
          "text": [
            "<class 'pandas.core.frame.DataFrame'>\n",
            "RangeIndex: 9179 entries, 0 to 9178\n",
            "Data columns (total 18 columns):\n",
            " #   Column                           Non-Null Count  Dtype \n",
            "---  ------                           --------------  ----- \n",
            " 0   Database Fundamentals            9179 non-null   object\n",
            " 1   Computer Architecture            9179 non-null   object\n",
            " 2   Distributed Computing Systems    9179 non-null   object\n",
            " 3   Cyber Security                   9179 non-null   object\n",
            " 4   Networking                       9179 non-null   object\n",
            " 5   Software Development             9179 non-null   object\n",
            " 6   Programming Skills               9179 non-null   object\n",
            " 7   Project Management               9179 non-null   object\n",
            " 8   Computer Forensics Fundamentals  9179 non-null   object\n",
            " 9   Technical Communication          9179 non-null   object\n",
            " 10  AI ML                            9179 non-null   object\n",
            " 11  Software Engineering             9179 non-null   object\n",
            " 12  Business Analysis                9179 non-null   object\n",
            " 13  Communication skills             9179 non-null   object\n",
            " 14  Data Science                     9179 non-null   object\n",
            " 15  Troubleshooting skills           9179 non-null   object\n",
            " 16  Graphics Designing               9179 non-null   object\n",
            " 17  Role                             9179 non-null   object\n",
            "dtypes: object(18)\n",
            "memory usage: 1.3+ MB\n"
          ]
        }
      ],
      "execution_count": 15,
      "metadata": {
        "execution": {
          "iopub.execute_input": "2020-10-23T17:08:54.382460Z",
          "iopub.status.busy": "2020-10-23T17:08:54.381579Z",
          "iopub.status.idle": "2020-10-23T17:08:54.385700Z",
          "shell.execute_reply": "2020-10-23T17:08:54.386222Z"
        },
        "papermill": {
          "duration": 0.065226,
          "end_time": "2020-10-23T17:08:54.386387",
          "exception": false,
          "start_time": "2020-10-23T17:08:54.321161",
          "status": "completed"
        },
        "tags": []
      }
    },
    {
      "cell_type": "markdown",
      "source": [
        "## Analyzing Categorical Variables"
      ],
      "metadata": {
        "papermill": {
          "duration": 0.048046,
          "end_time": "2020-10-23T17:08:55.357536",
          "exception": false,
          "start_time": "2020-10-23T17:08:55.309490",
          "status": "completed"
        },
        "tags": []
      }
    },
    {
      "cell_type": "code",
      "source": [
        "categorical = [var for var in df.columns if df[var].dtype=='O']\n",
        "print('There are {} categorical variables'.format(len(categorical)))\n",
        "print('The categorical variables are :', categorical)"
      ],
      "outputs": [
        {
          "output_type": "stream",
          "name": "stdout",
          "text": [
            "There are 18 categorical variables\n",
            "The categorical variables are : ['Database Fundamentals', 'Computer Architecture', 'Distributed Computing Systems', 'Cyber Security', 'Networking', 'Software Development', 'Programming Skills', 'Project Management', 'Computer Forensics Fundamentals', 'Technical Communication', 'AI ML', 'Software Engineering', 'Business Analysis', 'Communication skills', 'Data Science', 'Troubleshooting skills', 'Graphics Designing', 'Role']\n"
          ]
        }
      ],
      "execution_count": 16,
      "metadata": {
        "execution": {
          "iopub.execute_input": "2020-10-23T17:08:55.460885Z",
          "iopub.status.busy": "2020-10-23T17:08:55.459811Z",
          "iopub.status.idle": "2020-10-23T17:08:55.463587Z",
          "shell.execute_reply": "2020-10-23T17:08:55.464362Z"
        },
        "papermill": {
          "duration": 0.058734,
          "end_time": "2020-10-23T17:08:55.464593",
          "exception": false,
          "start_time": "2020-10-23T17:08:55.405859",
          "status": "completed"
        },
        "tags": []
      }
    },
    {
      "cell_type": "code",
      "source": [
        "df[categorical].head()"
      ],
      "outputs": [
        {
          "output_type": "execute_result",
          "execution_count": 17,
          "data": {
            "text/html": "<div>\n<style scoped>\n    .dataframe tbody tr th:only-of-type {\n        vertical-align: middle;\n    }\n\n    .dataframe tbody tr th {\n        vertical-align: top;\n    }\n\n    .dataframe thead th {\n        text-align: right;\n    }\n</style>\n<table border=\"1\" class=\"dataframe\">\n  <thead>\n    <tr style=\"text-align: right;\">\n      <th></th>\n      <th>Database Fundamentals</th>\n      <th>Computer Architecture</th>\n      <th>Distributed Computing Systems</th>\n      <th>Cyber Security</th>\n      <th>Networking</th>\n      <th>Software Development</th>\n      <th>Programming Skills</th>\n      <th>Project Management</th>\n      <th>Computer Forensics Fundamentals</th>\n      <th>Technical Communication</th>\n      <th>AI ML</th>\n      <th>Software Engineering</th>\n      <th>Business Analysis</th>\n      <th>Communication skills</th>\n      <th>Data Science</th>\n      <th>Troubleshooting skills</th>\n      <th>Graphics Designing</th>\n      <th>Role</th>\n    </tr>\n  </thead>\n  <tbody>\n    <tr>\n      <th>0</th>\n      <td>Professional</td>\n      <td>Not Interested</td>\n      <td>Not Interested</td>\n      <td>Not Interested</td>\n      <td>Not Interested</td>\n      <td>Not Interested</td>\n      <td>Not Interested</td>\n      <td>Not Interested</td>\n      <td>Not Interested</td>\n      <td>Not Interested</td>\n      <td>Not Interested</td>\n      <td>Not Interested</td>\n      <td>Not Interested</td>\n      <td>Not Interested</td>\n      <td>Not Interested</td>\n      <td>Not Interested</td>\n      <td>Not Interested</td>\n      <td>Database Administrator</td>\n    </tr>\n    <tr>\n      <th>1</th>\n      <td>Professional</td>\n      <td>Poor</td>\n      <td>Not Interested</td>\n      <td>Not Interested</td>\n      <td>Not Interested</td>\n      <td>Not Interested</td>\n      <td>Not Interested</td>\n      <td>Not Interested</td>\n      <td>Not Interested</td>\n      <td>Not Interested</td>\n      <td>Not Interested</td>\n      <td>Not Interested</td>\n      <td>Not Interested</td>\n      <td>Not Interested</td>\n      <td>Not Interested</td>\n      <td>Not Interested</td>\n      <td>Not Interested</td>\n      <td>Database Administrator</td>\n    </tr>\n    <tr>\n      <th>2</th>\n      <td>Professional</td>\n      <td>Beginner</td>\n      <td>Not Interested</td>\n      <td>Not Interested</td>\n      <td>Not Interested</td>\n      <td>Not Interested</td>\n      <td>Not Interested</td>\n      <td>Not Interested</td>\n      <td>Not Interested</td>\n      <td>Not Interested</td>\n      <td>Not Interested</td>\n      <td>Not Interested</td>\n      <td>Not Interested</td>\n      <td>Not Interested</td>\n      <td>Not Interested</td>\n      <td>Not Interested</td>\n      <td>Not Interested</td>\n      <td>Database Administrator</td>\n    </tr>\n    <tr>\n      <th>3</th>\n      <td>Professional</td>\n      <td>Average</td>\n      <td>Not Interested</td>\n      <td>Not Interested</td>\n      <td>Not Interested</td>\n      <td>Not Interested</td>\n      <td>Not Interested</td>\n      <td>Not Interested</td>\n      <td>Not Interested</td>\n      <td>Not Interested</td>\n      <td>Not Interested</td>\n      <td>Not Interested</td>\n      <td>Not Interested</td>\n      <td>Not Interested</td>\n      <td>Not Interested</td>\n      <td>Not Interested</td>\n      <td>Not Interested</td>\n      <td>Database Administrator</td>\n    </tr>\n    <tr>\n      <th>4</th>\n      <td>Professional</td>\n      <td>Intermediate</td>\n      <td>Not Interested</td>\n      <td>Not Interested</td>\n      <td>Not Interested</td>\n      <td>Not Interested</td>\n      <td>Not Interested</td>\n      <td>Not Interested</td>\n      <td>Not Interested</td>\n      <td>Not Interested</td>\n      <td>Not Interested</td>\n      <td>Not Interested</td>\n      <td>Not Interested</td>\n      <td>Not Interested</td>\n      <td>Not Interested</td>\n      <td>Not Interested</td>\n      <td>Not Interested</td>\n      <td>Database Administrator</td>\n    </tr>\n  </tbody>\n</table>\n</div>",
            "text/plain": "  Database Fundamentals Computer Architecture Distributed Computing Systems  \\\n0          Professional        Not Interested                Not Interested   \n1          Professional                  Poor                Not Interested   \n2          Professional              Beginner                Not Interested   \n3          Professional               Average                Not Interested   \n4          Professional          Intermediate                Not Interested   \n\n   Cyber Security      Networking Software Development Programming Skills  \\\n0  Not Interested  Not Interested       Not Interested     Not Interested   \n1  Not Interested  Not Interested       Not Interested     Not Interested   \n2  Not Interested  Not Interested       Not Interested     Not Interested   \n3  Not Interested  Not Interested       Not Interested     Not Interested   \n4  Not Interested  Not Interested       Not Interested     Not Interested   \n\n  Project Management Computer Forensics Fundamentals Technical Communication  \\\n0     Not Interested                  Not Interested          Not Interested   \n1     Not Interested                  Not Interested          Not Interested   \n2     Not Interested                  Not Interested          Not Interested   \n3     Not Interested                  Not Interested          Not Interested   \n4     Not Interested                  Not Interested          Not Interested   \n\n            AI ML Software Engineering Business Analysis Communication skills  \\\n0  Not Interested       Not Interested    Not Interested       Not Interested   \n1  Not Interested       Not Interested    Not Interested       Not Interested   \n2  Not Interested       Not Interested    Not Interested       Not Interested   \n3  Not Interested       Not Interested    Not Interested       Not Interested   \n4  Not Interested       Not Interested    Not Interested       Not Interested   \n\n     Data Science Troubleshooting skills Graphics Designing  \\\n0  Not Interested         Not Interested     Not Interested   \n1  Not Interested         Not Interested     Not Interested   \n2  Not Interested         Not Interested     Not Interested   \n3  Not Interested         Not Interested     Not Interested   \n4  Not Interested         Not Interested     Not Interested   \n\n                     Role  \n0  Database Administrator  \n1  Database Administrator  \n2  Database Administrator  \n3  Database Administrator  \n4  Database Administrator  "
          },
          "metadata": {}
        }
      ],
      "execution_count": 17,
      "metadata": {
        "execution": {
          "iopub.execute_input": "2020-10-23T17:08:55.581224Z",
          "iopub.status.busy": "2020-10-23T17:08:55.580266Z",
          "iopub.status.idle": "2020-10-23T17:08:55.585859Z",
          "shell.execute_reply": "2020-10-23T17:08:55.585196Z"
        },
        "papermill": {
          "duration": 0.072486,
          "end_time": "2020-10-23T17:08:55.585985",
          "exception": false,
          "start_time": "2020-10-23T17:08:55.513499",
          "status": "completed"
        },
        "tags": []
      }
    },
    {
      "cell_type": "code",
      "source": [
        "df[categorical].isnull().sum()"
      ],
      "outputs": [
        {
          "output_type": "execute_result",
          "execution_count": 18,
          "data": {
            "text/plain": "Database Fundamentals              0\nComputer Architecture              0\nDistributed Computing Systems      0\nCyber Security                     0\nNetworking                         0\nSoftware Development               0\nProgramming Skills                 0\nProject Management                 0\nComputer Forensics Fundamentals    0\nTechnical Communication            0\nAI ML                              0\nSoftware Engineering               0\nBusiness Analysis                  0\nCommunication skills               0\nData Science                       0\nTroubleshooting skills             0\nGraphics Designing                 0\nRole                               0\ndtype: int64"
          },
          "metadata": {}
        }
      ],
      "execution_count": 18,
      "metadata": {
        "execution": {
          "iopub.execute_input": "2020-10-23T17:08:55.694884Z",
          "iopub.status.busy": "2020-10-23T17:08:55.693768Z",
          "iopub.status.idle": "2020-10-23T17:08:55.698607Z",
          "shell.execute_reply": "2020-10-23T17:08:55.698008Z"
        },
        "papermill": {
          "duration": 0.063825,
          "end_time": "2020-10-23T17:08:55.698737",
          "exception": false,
          "start_time": "2020-10-23T17:08:55.634912",
          "status": "completed"
        },
        "tags": []
      }
    },
    {
      "cell_type": "code",
      "source": [
        "# view frequency counts of values in categorical variables\n",
        "for var in categorical: \n",
        "    print(df[var].value_counts())\n",
        "    print(df[var].value_counts()/np.float(len(df)))\n",
        "    print()"
      ],
      "outputs": [
        {
          "output_type": "stream",
          "name": "stdout",
          "text": [
            "Not Interested    1440\n",
            "Poor              1440\n",
            "Beginner          1440\n",
            "Average           1440\n",
            "Intermediate      1440\n",
            "Excellent         1439\n",
            "Professional       540\n",
            "Name: Database Fundamentals, dtype: int64\n",
            "Not Interested    0.156880\n",
            "Poor              0.156880\n",
            "Beginner          0.156880\n",
            "Average           0.156880\n",
            "Intermediate      0.156880\n",
            "Excellent         0.156771\n",
            "Professional      0.058830\n",
            "Name: Database Fundamentals, dtype: float64\n",
            "\n",
            "Not Interested    1440\n",
            "Poor              1440\n",
            "Beginner          1440\n",
            "Average           1440\n",
            "Intermediate      1440\n",
            "Excellent         1439\n",
            "Professional       540\n",
            "Name: Computer Architecture, dtype: int64\n",
            "Not Interested    0.156880\n",
            "Poor              0.156880\n",
            "Beginner          0.156880\n",
            "Average           0.156880\n",
            "Intermediate      0.156880\n",
            "Excellent         0.156771\n",
            "Professional      0.058830\n",
            "Name: Computer Architecture, dtype: float64\n",
            "\n",
            "Not Interested    1440\n",
            "Poor              1440\n",
            "Beginner          1440\n",
            "Average           1440\n",
            "Intermediate      1440\n",
            "Excellent         1439\n",
            "Professional       540\n",
            "Name: Distributed Computing Systems, dtype: int64\n",
            "Not Interested    0.156880\n",
            "Poor              0.156880\n",
            "Beginner          0.156880\n",
            "Average           0.156880\n",
            "Intermediate      0.156880\n",
            "Excellent         0.156771\n",
            "Professional      0.058830\n",
            "Name: Distributed Computing Systems, dtype: float64\n",
            "\n",
            "Not Interested    1440\n",
            "Poor              1440\n",
            "Beginner          1440\n",
            "Average           1440\n",
            "Intermediate      1440\n",
            "Excellent         1439\n",
            "Professional       540\n",
            "Name: Cyber Security, dtype: int64\n",
            "Not Interested    0.156880\n",
            "Poor              0.156880\n",
            "Beginner          0.156880\n",
            "Average           0.156880\n",
            "Intermediate      0.156880\n",
            "Excellent         0.156771\n",
            "Professional      0.058830\n",
            "Name: Cyber Security, dtype: float64\n",
            "\n",
            "Not Interested    1440\n",
            "Poor              1440\n",
            "Beginner          1440\n",
            "Average           1440\n",
            "Intermediate      1440\n",
            "Excellent         1439\n",
            "Professional       540\n",
            "Name: Networking, dtype: int64\n",
            "Not Interested    0.156880\n",
            "Poor              0.156880\n",
            "Beginner          0.156880\n",
            "Average           0.156880\n",
            "Intermediate      0.156880\n",
            "Excellent         0.156771\n",
            "Professional      0.058830\n",
            "Name: Networking, dtype: float64\n",
            "\n",
            "Not Interested    1440\n",
            "Poor              1440\n",
            "Beginner          1440\n",
            "Average           1440\n",
            "Intermediate      1440\n",
            "Excellent         1439\n",
            "Professional       540\n",
            "Name: Software Development, dtype: int64\n",
            "Not Interested    0.156880\n",
            "Poor              0.156880\n",
            "Beginner          0.156880\n",
            "Average           0.156880\n",
            "Intermediate      0.156880\n",
            "Excellent         0.156771\n",
            "Professional      0.058830\n",
            "Name: Software Development, dtype: float64\n",
            "\n",
            "Not Interested    1440\n",
            "Poor              1440\n",
            "Beginner          1440\n",
            "Average           1440\n",
            "Intermediate      1440\n",
            "Excellent         1439\n",
            "Professional       540\n",
            "Name: Programming Skills, dtype: int64\n",
            "Not Interested    0.156880\n",
            "Poor              0.156880\n",
            "Beginner          0.156880\n",
            "Average           0.156880\n",
            "Intermediate      0.156880\n",
            "Excellent         0.156771\n",
            "Professional      0.058830\n",
            "Name: Programming Skills, dtype: float64\n",
            "\n",
            "Not Interested    1440\n",
            "Poor              1440\n",
            "Beginner          1440\n",
            "Average           1440\n",
            "Intermediate      1440\n",
            "Excellent         1439\n",
            "Professional       540\n",
            "Name: Project Management, dtype: int64\n",
            "Not Interested    0.156880\n",
            "Poor              0.156880\n",
            "Beginner          0.156880\n",
            "Average           0.156880\n",
            "Intermediate      0.156880\n",
            "Excellent         0.156771\n",
            "Professional      0.058830\n",
            "Name: Project Management, dtype: float64\n",
            "\n",
            "Not Interested    1440\n",
            "Poor              1440\n",
            "Beginner          1440\n",
            "Average           1440\n",
            "Intermediate      1440\n",
            "Excellent         1439\n",
            "Professional       540\n",
            "Name: Computer Forensics Fundamentals, dtype: int64\n",
            "Not Interested    0.156880\n",
            "Poor              0.156880\n",
            "Beginner          0.156880\n",
            "Average           0.156880\n",
            "Intermediate      0.156880\n",
            "Excellent         0.156771\n",
            "Professional      0.058830\n",
            "Name: Computer Forensics Fundamentals, dtype: float64\n",
            "\n",
            "Not Interested    1440\n",
            "Poor              1440\n",
            "Beginner          1440\n",
            "Average           1440\n",
            "Intermediate      1440\n",
            "Excellent         1439\n",
            "Professional       540\n",
            "Name: Technical Communication, dtype: int64\n",
            "Not Interested    0.156880\n",
            "Poor              0.156880\n",
            "Beginner          0.156880\n",
            "Average           0.156880\n",
            "Intermediate      0.156880\n",
            "Excellent         0.156771\n",
            "Professional      0.058830\n",
            "Name: Technical Communication, dtype: float64\n",
            "\n",
            "Not Interested    1440\n",
            "Poor              1440\n",
            "Beginner          1440\n",
            "Average           1440\n",
            "Intermediate      1440\n",
            "Excellent         1439\n",
            "Professional       540\n",
            "Name: AI ML, dtype: int64\n",
            "Not Interested    0.156880\n",
            "Poor              0.156880\n",
            "Beginner          0.156880\n",
            "Average           0.156880\n",
            "Intermediate      0.156880\n",
            "Excellent         0.156771\n",
            "Professional      0.058830\n",
            "Name: AI ML, dtype: float64\n",
            "\n",
            "Not Interested    1440\n",
            "Poor              1440\n",
            "Beginner          1440\n",
            "Average           1440\n",
            "Intermediate      1440\n",
            "Excellent         1439\n",
            "Professional       540\n",
            "Name: Software Engineering, dtype: int64\n",
            "Not Interested    0.156880\n",
            "Poor              0.156880\n",
            "Beginner          0.156880\n",
            "Average           0.156880\n",
            "Intermediate      0.156880\n",
            "Excellent         0.156771\n",
            "Professional      0.058830\n",
            "Name: Software Engineering, dtype: float64\n",
            "\n",
            "Not Interested    1440\n",
            "Poor              1440\n",
            "Beginner          1440\n",
            "Average           1440\n",
            "Intermediate      1440\n",
            "Excellent         1439\n",
            "Professional       540\n",
            "Name: Business Analysis, dtype: int64\n",
            "Not Interested    0.156880\n",
            "Poor              0.156880\n",
            "Beginner          0.156880\n",
            "Average           0.156880\n",
            "Intermediate      0.156880\n",
            "Excellent         0.156771\n",
            "Professional      0.058830\n",
            "Name: Business Analysis, dtype: float64\n",
            "\n",
            "Not Interested    1440\n",
            "Poor              1440\n",
            "Beginner          1440\n",
            "Average           1440\n",
            "Intermediate      1440\n",
            "Excellent         1439\n",
            "Professional       540\n",
            "Name: Communication skills, dtype: int64\n",
            "Not Interested    0.156880\n",
            "Poor              0.156880\n",
            "Beginner          0.156880\n",
            "Average           0.156880\n",
            "Intermediate      0.156880\n",
            "Excellent         0.156771\n",
            "Professional      0.058830\n",
            "Name: Communication skills, dtype: float64\n",
            "\n",
            "Not Interested    1440\n",
            "Poor              1440\n",
            "Beginner          1440\n",
            "Average           1440\n",
            "Intermediate      1440\n",
            "Excellent         1439\n",
            "Professional       540\n",
            "Name: Data Science, dtype: int64\n",
            "Not Interested    0.156880\n",
            "Poor              0.156880\n",
            "Beginner          0.156880\n",
            "Average           0.156880\n",
            "Intermediate      0.156880\n",
            "Excellent         0.156771\n",
            "Professional      0.058830\n",
            "Name: Data Science, dtype: float64\n",
            "\n",
            "Not Interested    1440\n",
            "Poor              1440\n",
            "Beginner          1440\n",
            "Average           1440\n",
            "Intermediate      1440\n",
            "Excellent         1439\n",
            "Professional       540\n",
            "Name: Troubleshooting skills, dtype: int64\n",
            "Not Interested    0.156880\n",
            "Poor              0.156880\n",
            "Beginner          0.156880\n",
            "Average           0.156880\n",
            "Intermediate      0.156880\n",
            "Excellent         0.156771\n",
            "Professional      0.058830\n",
            "Name: Troubleshooting skills, dtype: float64\n",
            "\n",
            "Poor              1441\n",
            "Not Interested    1440\n",
            "Beginner          1440\n",
            "Average           1440\n",
            "Intermediate      1440\n",
            "Excellent         1439\n",
            "Professional       539\n",
            "Name: Graphics Designing, dtype: int64\n",
            "Poor              0.156989\n",
            "Not Interested    0.156880\n",
            "Beginner          0.156880\n",
            "Average           0.156880\n",
            "Intermediate      0.156880\n",
            "Excellent         0.156771\n",
            "Professional      0.058721\n",
            "Name: Graphics Designing, dtype: float64\n",
            "\n",
            "Database Administrator             540\n",
            "Technical Writer                   540\n",
            "Helpdesk Engineer                  540\n",
            "Data Scientist                     540\n",
            "Customer Service Executive         540\n",
            "Business Analyst                   540\n",
            "Software tester                    540\n",
            "AI ML Specialist                   540\n",
            "Information Security Specialist    540\n",
            "Hardware Engineer                  540\n",
            "Project Manager                    540\n",
            "API Specialist                     540\n",
            "Software Developer                 540\n",
            "Networking Engineer                540\n",
            "Cyber Security Specialist          540\n",
            "Application Support Engineer       540\n",
            "Graphics Designer                  539\n",
            "Name: Role, dtype: int64\n",
            "Database Administrator             0.058830\n",
            "Technical Writer                   0.058830\n",
            "Helpdesk Engineer                  0.058830\n",
            "Data Scientist                     0.058830\n",
            "Customer Service Executive         0.058830\n",
            "Business Analyst                   0.058830\n",
            "Software tester                    0.058830\n",
            "AI ML Specialist                   0.058830\n",
            "Information Security Specialist    0.058830\n",
            "Hardware Engineer                  0.058830\n",
            "Project Manager                    0.058830\n",
            "API Specialist                     0.058830\n",
            "Software Developer                 0.058830\n",
            "Networking Engineer                0.058830\n",
            "Cyber Security Specialist          0.058830\n",
            "Application Support Engineer       0.058830\n",
            "Graphics Designer                  0.058721\n",
            "Name: Role, dtype: float64\n",
            "\n"
          ]
        },
        {
          "output_type": "stream",
          "name": "stderr",
          "text": [
            "D:\\anaconda3\\envs\\FinalYear\\lib\\site-packages\\ipykernel_launcher.py:4: DeprecationWarning: `np.float` is a deprecated alias for the builtin `float`. To silence this warning, use `float` by itself. Doing this will not modify any behavior and is safe. If you specifically wanted the numpy scalar type, use `np.float64` here.\n",
            "Deprecated in NumPy 1.20; for more details and guidance: https://numpy.org/devdocs/release/1.20.0-notes.html#deprecations\n",
            "  after removing the cwd from sys.path.\n"
          ]
        }
      ],
      "execution_count": 19,
      "metadata": {
        "execution": {
          "iopub.execute_input": "2020-10-23T17:08:55.810213Z",
          "iopub.status.busy": "2020-10-23T17:08:55.809424Z",
          "iopub.status.idle": "2020-10-23T17:08:55.862026Z",
          "shell.execute_reply": "2020-10-23T17:08:55.863190Z"
        },
        "papermill": {
          "duration": 0.114375,
          "end_time": "2020-10-23T17:08:55.863424",
          "exception": false,
          "start_time": "2020-10-23T17:08:55.749049",
          "status": "completed"
        },
        "tags": []
      }
    },
    {
      "cell_type": "code",
      "source": [
        "# check for cardinality in categorical variables\n",
        "for var in categorical:\n",
        "    print(var, ' contains ', len(df[var].unique()), ' labels')"
      ],
      "outputs": [
        {
          "output_type": "stream",
          "name": "stdout",
          "text": [
            "Database Fundamentals  contains  7  labels\n",
            "Computer Architecture  contains  7  labels\n",
            "Distributed Computing Systems  contains  7  labels\n",
            "Cyber Security  contains  7  labels\n",
            "Networking  contains  7  labels\n",
            "Software Development  contains  7  labels\n",
            "Programming Skills  contains  7  labels\n",
            "Project Management  contains  7  labels\n",
            "Computer Forensics Fundamentals  contains  7  labels\n",
            "Technical Communication  contains  7  labels\n",
            "AI ML  contains  7  labels\n",
            "Software Engineering  contains  7  labels\n",
            "Business Analysis  contains  7  labels\n",
            "Communication skills  contains  7  labels\n",
            "Data Science  contains  7  labels\n",
            "Troubleshooting skills  contains  7  labels\n",
            "Graphics Designing  contains  7  labels\n",
            "Role  contains  17  labels\n"
          ]
        }
      ],
      "execution_count": 20,
      "metadata": {
        "execution": {
          "iopub.execute_input": "2020-10-23T17:08:55.971447Z",
          "iopub.status.busy": "2020-10-23T17:08:55.970681Z",
          "iopub.status.idle": "2020-10-23T17:08:55.980075Z",
          "shell.execute_reply": "2020-10-23T17:08:55.979090Z"
        },
        "papermill": {
          "duration": 0.06621,
          "end_time": "2020-10-23T17:08:55.980243",
          "exception": false,
          "start_time": "2020-10-23T17:08:55.914033",
          "status": "completed"
        },
        "tags": []
      }
    },
    {
      "cell_type": "markdown",
      "source": [
        "## Label Encoding"
      ],
      "metadata": {
        "papermill": {
          "duration": 0.050506,
          "end_time": "2020-10-23T17:08:56.082774",
          "exception": false,
          "start_time": "2020-10-23T17:08:56.032268",
          "status": "completed"
        },
        "tags": []
      }
    },
    {
      "cell_type": "code",
      "source": [
        "from sklearn import preprocessing \n",
        "label_encoder = preprocessing.LabelEncoder() \n",
        "\n",
        "df['Database Fundamentals'] = label_encoder.fit_transform(df['Database Fundamentals'])\n",
        "df['Computer Architecture'] = label_encoder.fit_transform(df['Computer Architecture'])\n",
        "df['Distributed Computing Systems'] = label_encoder.fit_transform(df['Distributed Computing Systems'])\n",
        "df['Cyber Security'] = label_encoder.fit_transform(df['Cyber Security'])\n",
        "df['Networking'] = label_encoder.fit_transform(df['Networking'])\n",
        "df['Software Development'] = label_encoder.fit_transform(df['Software Development'])\n",
        "df['Programming Skills'] = label_encoder.fit_transform(df['Programming Skills'])\n",
        "df['Project Management'] = label_encoder.fit_transform(df['Project Management'])\n",
        "df['Computer Forensics Fundamentals'] = label_encoder.fit_transform(df['Computer Forensics Fundamentals'])\n",
        "df['Technical Communication'] = label_encoder.fit_transform(df['Technical Communication'])\n",
        "df['AI ML'] = label_encoder.fit_transform(df['AI ML'])\n",
        "df['Software Engineering'] = label_encoder.fit_transform(df['Software Engineering'])\n",
        "df['Business Analysis'] = label_encoder.fit_transform(df['Business Analysis'])\n",
        "df['Communication skills'] = label_encoder.fit_transform(df['Communication skills'])\n",
        "df['Data Science'] = label_encoder.fit_transform(df['Data Science'])\n",
        "df['Troubleshooting skills'] = label_encoder.fit_transform(df['Troubleshooting skills'])\n",
        "df['Graphics Designing'] = label_encoder.fit_transform(df['Graphics Designing'])\n",
        "\n",
        "df['Role'] = label_encoder.fit_transform(df['Role'])\n",
        "df.head()"
      ],
      "outputs": [
        {
          "output_type": "execute_result",
          "execution_count": 21,
          "data": {
            "text/html": "<div>\n<style scoped>\n    .dataframe tbody tr th:only-of-type {\n        vertical-align: middle;\n    }\n\n    .dataframe tbody tr th {\n        vertical-align: top;\n    }\n\n    .dataframe thead th {\n        text-align: right;\n    }\n</style>\n<table border=\"1\" class=\"dataframe\">\n  <thead>\n    <tr style=\"text-align: right;\">\n      <th></th>\n      <th>Database Fundamentals</th>\n      <th>Computer Architecture</th>\n      <th>Distributed Computing Systems</th>\n      <th>Cyber Security</th>\n      <th>Networking</th>\n      <th>Software Development</th>\n      <th>Programming Skills</th>\n      <th>Project Management</th>\n      <th>Computer Forensics Fundamentals</th>\n      <th>Technical Communication</th>\n      <th>AI ML</th>\n      <th>Software Engineering</th>\n      <th>Business Analysis</th>\n      <th>Communication skills</th>\n      <th>Data Science</th>\n      <th>Troubleshooting skills</th>\n      <th>Graphics Designing</th>\n      <th>Role</th>\n    </tr>\n  </thead>\n  <tbody>\n    <tr>\n      <th>0</th>\n      <td>6</td>\n      <td>4</td>\n      <td>4</td>\n      <td>4</td>\n      <td>4</td>\n      <td>4</td>\n      <td>4</td>\n      <td>4</td>\n      <td>4</td>\n      <td>4</td>\n      <td>4</td>\n      <td>4</td>\n      <td>4</td>\n      <td>4</td>\n      <td>4</td>\n      <td>4</td>\n      <td>4</td>\n      <td>7</td>\n    </tr>\n    <tr>\n      <th>1</th>\n      <td>6</td>\n      <td>5</td>\n      <td>4</td>\n      <td>4</td>\n      <td>4</td>\n      <td>4</td>\n      <td>4</td>\n      <td>4</td>\n      <td>4</td>\n      <td>4</td>\n      <td>4</td>\n      <td>4</td>\n      <td>4</td>\n      <td>4</td>\n      <td>4</td>\n      <td>4</td>\n      <td>4</td>\n      <td>7</td>\n    </tr>\n    <tr>\n      <th>2</th>\n      <td>6</td>\n      <td>1</td>\n      <td>4</td>\n      <td>4</td>\n      <td>4</td>\n      <td>4</td>\n      <td>4</td>\n      <td>4</td>\n      <td>4</td>\n      <td>4</td>\n      <td>4</td>\n      <td>4</td>\n      <td>4</td>\n      <td>4</td>\n      <td>4</td>\n      <td>4</td>\n      <td>4</td>\n      <td>7</td>\n    </tr>\n    <tr>\n      <th>3</th>\n      <td>6</td>\n      <td>0</td>\n      <td>4</td>\n      <td>4</td>\n      <td>4</td>\n      <td>4</td>\n      <td>4</td>\n      <td>4</td>\n      <td>4</td>\n      <td>4</td>\n      <td>4</td>\n      <td>4</td>\n      <td>4</td>\n      <td>4</td>\n      <td>4</td>\n      <td>4</td>\n      <td>4</td>\n      <td>7</td>\n    </tr>\n    <tr>\n      <th>4</th>\n      <td>6</td>\n      <td>3</td>\n      <td>4</td>\n      <td>4</td>\n      <td>4</td>\n      <td>4</td>\n      <td>4</td>\n      <td>4</td>\n      <td>4</td>\n      <td>4</td>\n      <td>4</td>\n      <td>4</td>\n      <td>4</td>\n      <td>4</td>\n      <td>4</td>\n      <td>4</td>\n      <td>4</td>\n      <td>7</td>\n    </tr>\n  </tbody>\n</table>\n</div>",
            "text/plain": "   Database Fundamentals  Computer Architecture  \\\n0                      6                      4   \n1                      6                      5   \n2                      6                      1   \n3                      6                      0   \n4                      6                      3   \n\n   Distributed Computing Systems  Cyber Security  Networking  \\\n0                              4               4           4   \n1                              4               4           4   \n2                              4               4           4   \n3                              4               4           4   \n4                              4               4           4   \n\n   Software Development  Programming Skills  Project Management  \\\n0                     4                   4                   4   \n1                     4                   4                   4   \n2                     4                   4                   4   \n3                     4                   4                   4   \n4                     4                   4                   4   \n\n   Computer Forensics Fundamentals  Technical Communication  AI ML  \\\n0                                4                        4      4   \n1                                4                        4      4   \n2                                4                        4      4   \n3                                4                        4      4   \n4                                4                        4      4   \n\n   Software Engineering  Business Analysis  Communication skills  \\\n0                     4                  4                     4   \n1                     4                  4                     4   \n2                     4                  4                     4   \n3                     4                  4                     4   \n4                     4                  4                     4   \n\n   Data Science  Troubleshooting skills  Graphics Designing  Role  \n0             4                       4                   4     7  \n1             4                       4                   4     7  \n2             4                       4                   4     7  \n3             4                       4                   4     7  \n4             4                       4                   4     7  "
          },
          "metadata": {}
        }
      ],
      "execution_count": 21,
      "metadata": {
        "execution": {
          "iopub.execute_input": "2020-10-23T17:08:56.197174Z",
          "iopub.status.busy": "2020-10-23T17:08:56.196306Z",
          "iopub.status.idle": "2020-10-23T17:08:56.293357Z",
          "shell.execute_reply": "2020-10-23T17:08:56.292585Z"
        },
        "papermill": {
          "duration": 0.159717,
          "end_time": "2020-10-23T17:08:56.293498",
          "exception": false,
          "start_time": "2020-10-23T17:08:56.133781",
          "status": "completed"
        },
        "tags": []
      }
    },
    {
      "cell_type": "markdown",
      "source": [
        "## Train-Test Split"
      ],
      "metadata": {
        "papermill": {
          "duration": 0.055087,
          "end_time": "2020-10-23T17:08:57.120199",
          "exception": false,
          "start_time": "2020-10-23T17:08:57.065112",
          "status": "completed"
        },
        "tags": []
      }
    },
    {
      "cell_type": "code",
      "source": [
        "X = df.drop(['Role'], axis=1)\n",
        "y = df['Role']"
      ],
      "outputs": [],
      "execution_count": 22,
      "metadata": {
        "execution": {
          "iopub.execute_input": "2020-10-23T17:08:57.237422Z",
          "iopub.status.busy": "2020-10-23T17:08:57.236473Z",
          "iopub.status.idle": "2020-10-23T17:08:57.242276Z",
          "shell.execute_reply": "2020-10-23T17:08:57.241476Z"
        },
        "papermill": {
          "duration": 0.067177,
          "end_time": "2020-10-23T17:08:57.242420",
          "exception": false,
          "start_time": "2020-10-23T17:08:57.175243",
          "status": "completed"
        },
        "tags": []
      }
    },
    {
      "cell_type": "code",
      "source": [
        "# split X and y into training and testing sets\n",
        "from sklearn.model_selection import train_test_split\n",
        "\n",
        "X_train, X_test, y_train, y_test = train_test_split(X, y, test_size = 0.2, random_state = 999)\n",
        "X_train.shape, X_test.shape"
      ],
      "outputs": [
        {
          "output_type": "execute_result",
          "execution_count": 23,
          "data": {
            "text/plain": "((7343, 17), (1836, 17))"
          },
          "metadata": {}
        }
      ],
      "execution_count": 23,
      "metadata": {
        "execution": {
          "iopub.execute_input": "2020-10-23T17:08:57.379424Z",
          "iopub.status.busy": "2020-10-23T17:08:57.377958Z",
          "iopub.status.idle": "2020-10-23T17:08:57.466497Z",
          "shell.execute_reply": "2020-10-23T17:08:57.465305Z"
        },
        "papermill": {
          "duration": 0.168276,
          "end_time": "2020-10-23T17:08:57.466720",
          "exception": false,
          "start_time": "2020-10-23T17:08:57.298444",
          "status": "completed"
        },
        "tags": []
      }
    },
    {
      "cell_type": "code",
      "source": [
        "X_train.head()"
      ],
      "outputs": [
        {
          "output_type": "execute_result",
          "execution_count": 24,
          "data": {
            "text/html": "<div>\n<style scoped>\n    .dataframe tbody tr th:only-of-type {\n        vertical-align: middle;\n    }\n\n    .dataframe tbody tr th {\n        vertical-align: top;\n    }\n\n    .dataframe thead th {\n        text-align: right;\n    }\n</style>\n<table border=\"1\" class=\"dataframe\">\n  <thead>\n    <tr style=\"text-align: right;\">\n      <th></th>\n      <th>Database Fundamentals</th>\n      <th>Computer Architecture</th>\n      <th>Distributed Computing Systems</th>\n      <th>Cyber Security</th>\n      <th>Networking</th>\n      <th>Software Development</th>\n      <th>Programming Skills</th>\n      <th>Project Management</th>\n      <th>Computer Forensics Fundamentals</th>\n      <th>Technical Communication</th>\n      <th>AI ML</th>\n      <th>Software Engineering</th>\n      <th>Business Analysis</th>\n      <th>Communication skills</th>\n      <th>Data Science</th>\n      <th>Troubleshooting skills</th>\n      <th>Graphics Designing</th>\n    </tr>\n  </thead>\n  <tbody>\n    <tr>\n      <th>6578</th>\n      <td>3</td>\n      <td>3</td>\n      <td>3</td>\n      <td>3</td>\n      <td>3</td>\n      <td>3</td>\n      <td>3</td>\n      <td>3</td>\n      <td>3</td>\n      <td>3</td>\n      <td>3</td>\n      <td>3</td>\n      <td>6</td>\n      <td>3</td>\n      <td>3</td>\n      <td>1</td>\n      <td>1</td>\n    </tr>\n    <tr>\n      <th>7615</th>\n      <td>5</td>\n      <td>0</td>\n      <td>0</td>\n      <td>0</td>\n      <td>0</td>\n      <td>0</td>\n      <td>0</td>\n      <td>0</td>\n      <td>0</td>\n      <td>0</td>\n      <td>0</td>\n      <td>0</td>\n      <td>0</td>\n      <td>0</td>\n      <td>6</td>\n      <td>0</td>\n      <td>0</td>\n    </tr>\n    <tr>\n      <th>6387</th>\n      <td>1</td>\n      <td>1</td>\n      <td>1</td>\n      <td>1</td>\n      <td>1</td>\n      <td>1</td>\n      <td>1</td>\n      <td>1</td>\n      <td>0</td>\n      <td>1</td>\n      <td>1</td>\n      <td>6</td>\n      <td>1</td>\n      <td>1</td>\n      <td>1</td>\n      <td>1</td>\n      <td>1</td>\n    </tr>\n    <tr>\n      <th>3556</th>\n      <td>3</td>\n      <td>3</td>\n      <td>3</td>\n      <td>3</td>\n      <td>3</td>\n      <td>3</td>\n      <td>6</td>\n      <td>3</td>\n      <td>3</td>\n      <td>3</td>\n      <td>3</td>\n      <td>3</td>\n      <td>3</td>\n      <td>3</td>\n      <td>3</td>\n      <td>3</td>\n      <td>3</td>\n    </tr>\n    <tr>\n      <th>4546</th>\n      <td>5</td>\n      <td>5</td>\n      <td>5</td>\n      <td>5</td>\n      <td>5</td>\n      <td>5</td>\n      <td>5</td>\n      <td>5</td>\n      <td>6</td>\n      <td>5</td>\n      <td>5</td>\n      <td>5</td>\n      <td>5</td>\n      <td>5</td>\n      <td>5</td>\n      <td>3</td>\n      <td>3</td>\n    </tr>\n  </tbody>\n</table>\n</div>",
            "text/plain": "      Database Fundamentals  Computer Architecture  \\\n6578                      3                      3   \n7615                      5                      0   \n6387                      1                      1   \n3556                      3                      3   \n4546                      5                      5   \n\n      Distributed Computing Systems  Cyber Security  Networking  \\\n6578                              3               3           3   \n7615                              0               0           0   \n6387                              1               1           1   \n3556                              3               3           3   \n4546                              5               5           5   \n\n      Software Development  Programming Skills  Project Management  \\\n6578                     3                   3                   3   \n7615                     0                   0                   0   \n6387                     1                   1                   1   \n3556                     3                   6                   3   \n4546                     5                   5                   5   \n\n      Computer Forensics Fundamentals  Technical Communication  AI ML  \\\n6578                                3                        3      3   \n7615                                0                        0      0   \n6387                                0                        1      1   \n3556                                3                        3      3   \n4546                                6                        5      5   \n\n      Software Engineering  Business Analysis  Communication skills  \\\n6578                     3                  6                     3   \n7615                     0                  0                     0   \n6387                     6                  1                     1   \n3556                     3                  3                     3   \n4546                     5                  5                     5   \n\n      Data Science  Troubleshooting skills  Graphics Designing  \n6578             3                       1                   1  \n7615             6                       0                   0  \n6387             1                       1                   1  \n3556             3                       3                   3  \n4546             5                       3                   3  "
          },
          "metadata": {}
        }
      ],
      "execution_count": 24,
      "metadata": {
        "execution": {
          "iopub.execute_input": "2020-10-23T17:08:57.610939Z",
          "iopub.status.busy": "2020-10-23T17:08:57.609632Z",
          "iopub.status.idle": "2020-10-23T17:08:57.614409Z",
          "shell.execute_reply": "2020-10-23T17:08:57.615324Z"
        },
        "papermill": {
          "duration": 0.085795,
          "end_time": "2020-10-23T17:08:57.615574",
          "exception": false,
          "start_time": "2020-10-23T17:08:57.529779",
          "status": "completed"
        },
        "tags": []
      }
    },
    {
      "cell_type": "code",
      "source": [
        "X_train.shape"
      ],
      "outputs": [
        {
          "output_type": "execute_result",
          "execution_count": 25,
          "data": {
            "text/plain": "(7343, 17)"
          },
          "metadata": {}
        }
      ],
      "execution_count": 25,
      "metadata": {
        "execution": {
          "iopub.execute_input": "2020-10-23T17:08:57.743726Z",
          "iopub.status.busy": "2020-10-23T17:08:57.742692Z",
          "iopub.status.idle": "2020-10-23T17:08:57.747869Z",
          "shell.execute_reply": "2020-10-23T17:08:57.747105Z"
        },
        "papermill": {
          "duration": 0.06998,
          "end_time": "2020-10-23T17:08:57.748004",
          "exception": false,
          "start_time": "2020-10-23T17:08:57.678024",
          "status": "completed"
        },
        "tags": []
      }
    },
    {
      "cell_type": "code",
      "source": [
        "X_test.head()"
      ],
      "outputs": [
        {
          "output_type": "execute_result",
          "execution_count": 26,
          "data": {
            "text/html": "<div>\n<style scoped>\n    .dataframe tbody tr th:only-of-type {\n        vertical-align: middle;\n    }\n\n    .dataframe tbody tr th {\n        vertical-align: top;\n    }\n\n    .dataframe thead th {\n        text-align: right;\n    }\n</style>\n<table border=\"1\" class=\"dataframe\">\n  <thead>\n    <tr style=\"text-align: right;\">\n      <th></th>\n      <th>Database Fundamentals</th>\n      <th>Computer Architecture</th>\n      <th>Distributed Computing Systems</th>\n      <th>Cyber Security</th>\n      <th>Networking</th>\n      <th>Software Development</th>\n      <th>Programming Skills</th>\n      <th>Project Management</th>\n      <th>Computer Forensics Fundamentals</th>\n      <th>Technical Communication</th>\n      <th>AI ML</th>\n      <th>Software Engineering</th>\n      <th>Business Analysis</th>\n      <th>Communication skills</th>\n      <th>Data Science</th>\n      <th>Troubleshooting skills</th>\n      <th>Graphics Designing</th>\n    </tr>\n  </thead>\n  <tbody>\n    <tr>\n      <th>8392</th>\n      <td>4</td>\n      <td>4</td>\n      <td>4</td>\n      <td>4</td>\n      <td>4</td>\n      <td>4</td>\n      <td>4</td>\n      <td>4</td>\n      <td>3</td>\n      <td>4</td>\n      <td>4</td>\n      <td>4</td>\n      <td>4</td>\n      <td>4</td>\n      <td>4</td>\n      <td>6</td>\n      <td>4</td>\n    </tr>\n    <tr>\n      <th>7992</th>\n      <td>4</td>\n      <td>4</td>\n      <td>4</td>\n      <td>4</td>\n      <td>4</td>\n      <td>4</td>\n      <td>4</td>\n      <td>4</td>\n      <td>4</td>\n      <td>4</td>\n      <td>4</td>\n      <td>4</td>\n      <td>4</td>\n      <td>4</td>\n      <td>6</td>\n      <td>4</td>\n      <td>4</td>\n    </tr>\n    <tr>\n      <th>2728</th>\n      <td>3</td>\n      <td>3</td>\n      <td>3</td>\n      <td>3</td>\n      <td>3</td>\n      <td>6</td>\n      <td>3</td>\n      <td>3</td>\n      <td>3</td>\n      <td>3</td>\n      <td>3</td>\n      <td>3</td>\n      <td>3</td>\n      <td>3</td>\n      <td>3</td>\n      <td>3</td>\n      <td>3</td>\n    </tr>\n    <tr>\n      <th>653</th>\n      <td>4</td>\n      <td>6</td>\n      <td>4</td>\n      <td>4</td>\n      <td>4</td>\n      <td>2</td>\n      <td>4</td>\n      <td>4</td>\n      <td>4</td>\n      <td>4</td>\n      <td>4</td>\n      <td>4</td>\n      <td>4</td>\n      <td>4</td>\n      <td>4</td>\n      <td>4</td>\n      <td>4</td>\n    </tr>\n    <tr>\n      <th>8701</th>\n      <td>2</td>\n      <td>2</td>\n      <td>2</td>\n      <td>2</td>\n      <td>2</td>\n      <td>2</td>\n      <td>2</td>\n      <td>2</td>\n      <td>2</td>\n      <td>2</td>\n      <td>5</td>\n      <td>2</td>\n      <td>2</td>\n      <td>2</td>\n      <td>2</td>\n      <td>2</td>\n      <td>6</td>\n    </tr>\n  </tbody>\n</table>\n</div>",
            "text/plain": "      Database Fundamentals  Computer Architecture  \\\n8392                      4                      4   \n7992                      4                      4   \n2728                      3                      3   \n653                       4                      6   \n8701                      2                      2   \n\n      Distributed Computing Systems  Cyber Security  Networking  \\\n8392                              4               4           4   \n7992                              4               4           4   \n2728                              3               3           3   \n653                               4               4           4   \n8701                              2               2           2   \n\n      Software Development  Programming Skills  Project Management  \\\n8392                     4                   4                   4   \n7992                     4                   4                   4   \n2728                     6                   3                   3   \n653                      2                   4                   4   \n8701                     2                   2                   2   \n\n      Computer Forensics Fundamentals  Technical Communication  AI ML  \\\n8392                                3                        4      4   \n7992                                4                        4      4   \n2728                                3                        3      3   \n653                                 4                        4      4   \n8701                                2                        2      5   \n\n      Software Engineering  Business Analysis  Communication skills  \\\n8392                     4                  4                     4   \n7992                     4                  4                     4   \n2728                     3                  3                     3   \n653                      4                  4                     4   \n8701                     2                  2                     2   \n\n      Data Science  Troubleshooting skills  Graphics Designing  \n8392             4                       6                   4  \n7992             6                       4                   4  \n2728             3                       3                   3  \n653              4                       4                   4  \n8701             2                       2                   6  "
          },
          "metadata": {}
        }
      ],
      "execution_count": 26,
      "metadata": {
        "execution": {
          "iopub.execute_input": "2020-10-23T17:08:57.881941Z",
          "iopub.status.busy": "2020-10-23T17:08:57.880981Z",
          "iopub.status.idle": "2020-10-23T17:08:57.885851Z",
          "shell.execute_reply": "2020-10-23T17:08:57.885237Z"
        },
        "papermill": {
          "duration": 0.079108,
          "end_time": "2020-10-23T17:08:57.886001",
          "exception": false,
          "start_time": "2020-10-23T17:08:57.806893",
          "status": "completed"
        },
        "tags": []
      }
    },
    {
      "cell_type": "code",
      "source": [
        "X_test.shape"
      ],
      "outputs": [
        {
          "output_type": "execute_result",
          "execution_count": 27,
          "data": {
            "text/plain": "(1836, 17)"
          },
          "metadata": {}
        }
      ],
      "execution_count": 27,
      "metadata": {
        "execution": {
          "iopub.execute_input": "2020-10-23T17:08:58.010563Z",
          "iopub.status.busy": "2020-10-23T17:08:58.009690Z",
          "iopub.status.idle": "2020-10-23T17:08:58.013721Z",
          "shell.execute_reply": "2020-10-23T17:08:58.014265Z"
        },
        "papermill": {
          "duration": 0.069293,
          "end_time": "2020-10-23T17:08:58.014433",
          "exception": false,
          "start_time": "2020-10-23T17:08:57.945140",
          "status": "completed"
        },
        "tags": []
      }
    },
    {
      "cell_type": "markdown",
      "source": [
        "## Gausian Naive Bayes"
      ],
      "metadata": {
        "papermill": {
          "duration": 0.05971,
          "end_time": "2020-10-23T17:08:58.134362",
          "exception": false,
          "start_time": "2020-10-23T17:08:58.074652",
          "status": "completed"
        },
        "tags": []
      }
    },
    {
      "cell_type": "code",
      "source": [
        "# train a Gaussian Naive Bayes classifier on the training set\n",
        "from sklearn.naive_bayes import GaussianNB\n",
        "\n",
        "# instantiate the model\n",
        "gnb = GaussianNB()\n",
        "\n",
        "# fit the model\n",
        "gnb.fit(X_train, y_train)"
      ],
      "outputs": [
        {
          "output_type": "execute_result",
          "execution_count": 28,
          "data": {
            "text/plain": "GaussianNB()"
          },
          "metadata": {}
        }
      ],
      "execution_count": 28,
      "metadata": {
        "execution": {
          "iopub.execute_input": "2020-10-23T17:08:58.260604Z",
          "iopub.status.busy": "2020-10-23T17:08:58.259475Z",
          "iopub.status.idle": "2020-10-23T17:08:58.273979Z",
          "shell.execute_reply": "2020-10-23T17:08:58.273120Z"
        },
        "papermill": {
          "duration": 0.079835,
          "end_time": "2020-10-23T17:08:58.274117",
          "exception": false,
          "start_time": "2020-10-23T17:08:58.194282",
          "status": "completed"
        },
        "tags": []
      }
    },
    {
      "cell_type": "code",
      "source": [
        "y_pred = gnb.predict(X_test)\n",
        "\n",
        "y_pred[:15]\n",
        "len(y_pred)"
      ],
      "outputs": [
        {
          "output_type": "execute_result",
          "execution_count": 42,
          "data": {
            "text/plain": "1836"
          },
          "metadata": {}
        }
      ],
      "execution_count": 42,
      "metadata": {
        "execution": {
          "iopub.execute_input": "2020-10-23T17:08:58.419188Z",
          "iopub.status.busy": "2020-10-23T17:08:58.418127Z",
          "iopub.status.idle": "2020-10-23T17:08:58.425761Z",
          "shell.execute_reply": "2020-10-23T17:08:58.424798Z"
        },
        "papermill": {
          "duration": 0.090561,
          "end_time": "2020-10-23T17:08:58.425950",
          "exception": false,
          "start_time": "2020-10-23T17:08:58.335389",
          "status": "completed"
        },
        "tags": []
      }
    },
    {
      "cell_type": "code",
      "source": [
        "from sklearn.metrics import accuracy_score\n",
        "print('Model accuracy score: {0:0.4f}'. format(accuracy_score(y_test, y_pred)))"
      ],
      "outputs": [
        {
          "output_type": "stream",
          "name": "stdout",
          "text": [
            "Model accuracy score: 1.0000\n"
          ]
        }
      ],
      "execution_count": 43,
      "metadata": {
        "execution": {
          "iopub.execute_input": "2020-10-23T17:08:58.560032Z",
          "iopub.status.busy": "2020-10-23T17:08:58.559015Z",
          "iopub.status.idle": "2020-10-23T17:08:58.563353Z",
          "shell.execute_reply": "2020-10-23T17:08:58.562709Z"
        },
        "papermill": {
          "duration": 0.073488,
          "end_time": "2020-10-23T17:08:58.563483",
          "exception": false,
          "start_time": "2020-10-23T17:08:58.489995",
          "status": "completed"
        },
        "tags": []
      }
    },
    {
      "cell_type": "code",
      "source": [
        "y_pred_train = gnb.predict(X_train)\n",
        "print('Training-set accuracy score: {0:0.4f}'. format(accuracy_score(y_train, y_pred_train)))"
      ],
      "outputs": [
        {
          "output_type": "stream",
          "name": "stdout",
          "text": [
            "Training-set accuracy score: 1.0000\n"
          ]
        }
      ],
      "execution_count": 34,
      "metadata": {
        "execution": {
          "iopub.execute_input": "2020-10-23T17:08:58.696349Z",
          "iopub.status.busy": "2020-10-23T17:08:58.695393Z",
          "iopub.status.idle": "2020-10-23T17:08:58.701466Z",
          "shell.execute_reply": "2020-10-23T17:08:58.700628Z"
        },
        "papermill": {
          "duration": 0.075588,
          "end_time": "2020-10-23T17:08:58.701621",
          "exception": false,
          "start_time": "2020-10-23T17:08:58.626033",
          "status": "completed"
        },
        "tags": []
      }
    },
    {
      "cell_type": "code",
      "source": [
        "from sklearn.metrics import confusion_matrix\n",
        "\n",
        "cm = confusion_matrix(y_test, y_pred)\n",
        "print('Confusion matrix\\n', cm)"
      ],
      "outputs": [
        {
          "output_type": "stream",
          "name": "stdout",
          "text": [
            "Confusion matrix\n",
            " [[115   0   0   0   0   0   0   0   0   0   0   0   0   0   0   0   0]\n",
            " [  0 106   0   0   0   0   0   0   0   0   0   0   0   0   0   0   0]\n",
            " [  0   0 105   0   0   0   0   0   0   0   0   0   0   0   0   0   0]\n",
            " [  0   0   0 104   0   0   0   0   0   0   0   0   0   0   0   0   0]\n",
            " [  0   0   0   0 101   0   0   0   0   0   0   0   0   0   0   0   0]\n",
            " [  0   0   0   0   0 108   0   0   0   0   0   0   0   0   0   0   0]\n",
            " [  0   0   0   0   0   0 101   0   0   0   0   0   0   0   0   0   0]\n",
            " [  0   0   0   0   0   0   0 109   0   0   0   0   0   0   0   0   0]\n",
            " [  0   0   0   0   0   0   0   0 124   0   0   0   0   0   0   0   0]\n",
            " [  0   0   0   0   0   0   0   0   0 120   0   0   0   0   0   0   0]\n",
            " [  0   0   0   0   0   0   0   0   0   0 100   0   0   0   0   0   0]\n",
            " [  0   0   0   0   0   0   0   0   0   0   0 108   0   0   0   0   0]\n",
            " [  0   0   0   0   0   0   0   0   0   0   0   0 126   0   0   0   0]\n",
            " [  0   0   0   0   0   0   0   0   0   0   0   0   0 105   0   0   0]\n",
            " [  0   0   0   0   0   0   0   0   0   0   0   0   0   0  92   0   0]\n",
            " [  0   0   0   0   0   0   0   0   0   0   0   0   0   0   0 106   0]\n",
            " [  0   0   0   0   0   0   0   0   0   0   0   0   0   0   0   0 106]]\n"
          ]
        }
      ],
      "execution_count": 35,
      "metadata": {
        "execution": {
          "iopub.execute_input": "2020-10-23T17:08:58.834192Z",
          "iopub.status.busy": "2020-10-23T17:08:58.832258Z",
          "iopub.status.idle": "2020-10-23T17:08:58.839868Z",
          "shell.execute_reply": "2020-10-23T17:08:58.838905Z"
        },
        "papermill": {
          "duration": 0.07625,
          "end_time": "2020-10-23T17:08:58.840034",
          "exception": false,
          "start_time": "2020-10-23T17:08:58.763784",
          "status": "completed"
        },
        "tags": []
      }
    },
    {
      "cell_type": "code",
      "source": [
        "cm_matrix = pd.DataFrame(data=cm)\n",
        "sns.heatmap(cm_matrix, annot=True, fmt='d', cmap='YlGnBu')\n",
        "plt.show()"
      ],
      "outputs": [
        {
          "output_type": "display_data",
          "data": {
            "image/png": "[encoded data removed]",
            "text/plain": "<Figure size 640x480 with 2 Axes>"
          },
          "metadata": {}
        }
      ],
      "execution_count": 37,
      "metadata": {
        "execution": {
          "iopub.execute_input": "2020-10-23T17:08:58.987107Z",
          "iopub.status.busy": "2020-10-23T17:08:58.980623Z",
          "iopub.status.idle": "2020-10-23T17:08:59.161019Z",
          "shell.execute_reply": "2020-10-23T17:08:59.161676Z"
        },
        "papermill": {
          "duration": 0.258211,
          "end_time": "2020-10-23T17:08:59.161853",
          "exception": false,
          "start_time": "2020-10-23T17:08:58.903642",
          "status": "completed"
        },
        "tags": []
      }
    },
    {
      "cell_type": "code",
      "source": [
        "from sklearn.metrics import classification_report\n",
        "\n",
        "print(classification_report(y_test, y_pred))"
      ],
      "outputs": [
        {
          "output_type": "stream",
          "name": "stdout",
          "text": [
            "              precision    recall  f1-score   support\n",
            "\n",
            "           0       1.00      1.00      1.00       115\n",
            "           1       1.00      1.00      1.00       106\n",
            "           2       1.00      1.00      1.00       105\n",
            "           3       1.00      1.00      1.00       104\n",
            "           4       1.00      1.00      1.00       101\n",
            "           5       1.00      1.00      1.00       108\n",
            "           6       1.00      1.00      1.00       101\n",
            "           7       1.00      1.00      1.00       109\n",
            "           8       1.00      1.00      1.00       124\n",
            "           9       1.00      1.00      1.00       120\n",
            "          10       1.00      1.00      1.00       100\n",
            "          11       1.00      1.00      1.00       108\n",
            "          12       1.00      1.00      1.00       126\n",
            "          13       1.00      1.00      1.00       105\n",
            "          14       1.00      1.00      1.00        92\n",
            "          15       1.00      1.00      1.00       106\n",
            "          16       1.00      1.00      1.00       106\n",
            "\n",
            "    accuracy                           1.00      1836\n",
            "   macro avg       1.00      1.00      1.00      1836\n",
            "weighted avg       1.00      1.00      1.00      1836\n",
            "\n"
          ]
        }
      ],
      "execution_count": 38,
      "metadata": {
        "execution": {
          "iopub.execute_input": "2020-10-23T17:08:59.298016Z",
          "iopub.status.busy": "2020-10-23T17:08:59.297197Z",
          "iopub.status.idle": "2020-10-23T17:08:59.306598Z",
          "shell.execute_reply": "2020-10-23T17:08:59.307183Z"
        },
        "papermill": {
          "duration": 0.080907,
          "end_time": "2020-10-23T17:08:59.307353",
          "exception": false,
          "start_time": "2020-10-23T17:08:59.226446",
          "status": "completed"
        },
        "tags": []
      }
    },
    {
      "cell_type": "markdown",
      "source": [
        "## Decision Tree Classifier"
      ],
      "metadata": {
        "papermill": {
          "duration": 0.065577,
          "end_time": "2020-10-23T17:08:59.437432",
          "exception": false,
          "start_time": "2020-10-23T17:08:59.371855",
          "status": "completed"
        },
        "tags": []
      }
    },
    {
      "cell_type": "code",
      "source": [
        "from sklearn.tree import DecisionTreeClassifier\n",
        "from sklearn import metrics\n",
        "# Create Decision Tree classifer object\n",
        "clf = DecisionTreeClassifier(criterion=\"gini\", max_depth=15, random_state=999)\n",
        "\n",
        "# Train Decision Tree Classifer\n",
        "clf = clf.fit(X_train,y_train)\n",
        "\n",
        "# Predict the response for test dataset\n",
        "y_pred2 = clf.predict(X_test)"
      ],
      "outputs": [],
      "execution_count": 51,
      "metadata": {
        "execution": {
          "iopub.execute_input": "2020-10-23T17:08:59.574713Z",
          "iopub.status.busy": "2020-10-23T17:08:59.573776Z",
          "iopub.status.idle": "2020-10-23T17:08:59.874967Z",
          "shell.execute_reply": "2020-10-23T17:08:59.873981Z"
        },
        "papermill": {
          "duration": 0.373058,
          "end_time": "2020-10-23T17:08:59.875113",
          "exception": false,
          "start_time": "2020-10-23T17:08:59.502055",
          "status": "completed"
        },
        "tags": []
      }
    },
    {
      "cell_type": "code",
      "source": [
        "print('Model accuracy score: {0:0.4f}'. format(accuracy_score(y_test, y_pred2)))"
      ],
      "outputs": [
        {
          "output_type": "stream",
          "name": "stdout",
          "text": [
            "Model accuracy score: 0.9314\n"
          ]
        }
      ],
      "execution_count": 52,
      "metadata": {
        "execution": {
          "iopub.execute_input": "2020-10-23T17:09:00.012250Z",
          "iopub.status.busy": "2020-10-23T17:09:00.011230Z",
          "iopub.status.idle": "2020-10-23T17:09:00.017113Z",
          "shell.execute_reply": "2020-10-23T17:09:00.016096Z"
        },
        "papermill": {
          "duration": 0.076431,
          "end_time": "2020-10-23T17:09:00.017251",
          "exception": false,
          "start_time": "2020-10-23T17:08:59.940820",
          "status": "completed"
        },
        "tags": []
      }
    },
    {
      "cell_type": "code",
      "source": [
        "y_pred_train2 = clf.predict(X_train)\n",
        "print('Training-set accuracy score: {0:0.4f}'. format(accuracy_score(y_train, y_pred_train2)))"
      ],
      "outputs": [
        {
          "output_type": "stream",
          "name": "stdout",
          "text": [
            "Training-set accuracy score: 0.9436\n"
          ]
        }
      ],
      "execution_count": 53,
      "metadata": {
        "execution": {
          "iopub.execute_input": "2020-10-23T17:09:00.157229Z",
          "iopub.status.busy": "2020-10-23T17:09:00.156257Z",
          "iopub.status.idle": "2020-10-23T17:09:00.162196Z",
          "shell.execute_reply": "2020-10-23T17:09:00.161498Z"
        },
        "papermill": {
          "duration": 0.079817,
          "end_time": "2020-10-23T17:09:00.162329",
          "exception": false,
          "start_time": "2020-10-23T17:09:00.082512",
          "status": "completed"
        },
        "tags": []
      }
    },
    {
      "cell_type": "markdown",
      "source": [
        "### Improving Accuracy using Grid Search"
      ],
      "metadata": {
        "papermill": {
          "duration": 0.071191,
          "end_time": "2020-10-23T17:09:01.284024",
          "exception": false,
          "start_time": "2020-10-23T17:09:01.212833",
          "status": "completed"
        },
        "tags": []
      }
    },
    {
      "cell_type": "code",
      "source": [
        "from sklearn.model_selection import GridSearchCV\n",
        "clf = DecisionTreeClassifier(criterion=\"gini\", max_depth=3)\n",
        "grid_values = {'criterion': ['gini', 'entropy'], 'max_features': ['auto', 'sqrt', 'log2'], \n",
        "               'max_depth':[4,5,6,7,8,9,10,15], 'min_samples_split': [2,3,4]}\n",
        "grid_clf_acc = GridSearchCV(clf, param_grid = grid_values)\n",
        "grid_clf_acc.fit(X_train, y_train)"
      ],
      "outputs": [
        {
          "output_type": "execute_result",
          "execution_count": 54,
          "data": {
            "text/plain": "GridSearchCV(estimator=DecisionTreeClassifier(max_depth=3),\n             param_grid={'criterion': ['gini', 'entropy'],\n                         'max_depth': [4, 5, 6, 7, 8, 9, 10, 15],\n                         'max_features': ['auto', 'sqrt', 'log2'],\n                         'min_samples_split': [2, 3, 4]})"
          },
          "metadata": {}
        }
      ],
      "execution_count": 54,
      "metadata": {
        "execution": {
          "iopub.execute_input": "2020-10-23T17:09:01.489621Z",
          "iopub.status.busy": "2020-10-23T17:09:01.488736Z",
          "iopub.status.idle": "2020-10-23T17:09:05.592383Z",
          "shell.execute_reply": "2020-10-23T17:09:05.592969Z"
        },
        "papermill": {
          "duration": 4.185853,
          "end_time": "2020-10-23T17:09:05.593135",
          "exception": false,
          "start_time": "2020-10-23T17:09:01.407282",
          "status": "completed"
        },
        "tags": []
      }
    },
    {
      "cell_type": "code",
      "source": [
        "y_pred_acc = grid_clf_acc.predict(X_test)\n",
        "\n",
        "# New Model Evaluation metrics \n",
        "print('Accuracy Score : ' + str(accuracy_score(y_test,y_pred_acc)))\n",
        "\n",
        "#Confusion matrix\n",
        "cm = confusion_matrix(y_test,y_pred_acc)\n",
        "print(cm)"
      ],
      "outputs": [
        {
          "output_type": "stream",
          "name": "stdout",
          "text": [
            "Accuracy Score : 0.8709150326797386\n",
            "[[115   0   0   0   0   0   0   0   0   0   0   0   0   0   0   0   0]\n",
            " [  0 106   0   0   0   0   0   0   0   0   0   0   0   0   0   0   0]\n",
            " [  0   0 105   0   0   0   0   0   0   0   0   0   0   0   0   0   0]\n",
            " [  0   0   0 104   0   0   0   0   0   0   0   0   0   0   0   0   0]\n",
            " [  0   0   0   0 101   0   0   0   0   0   0   0   0   0   0   0   0]\n",
            " [  0   0   0   0   0  34   0   0   0   0   0  74   0   0   0   0   0]\n",
            " [  0   0   0   0   0   0 101   0   0   0   0   0   0   0   0   0   0]\n",
            " [  0   0   0   0   0   0   0 109   0   0   0   0   0   0   0   0   0]\n",
            " [  0   0   0   0   0   0   0   0 124   0   0   0   0   0   0   0   0]\n",
            " [  0   0   0   0   0   0   0   0   0 120   0   0   0   0   0   0   0]\n",
            " [  0   0   0   0   0   0   0   0   0   0 100   0   0   0   0   0   0]\n",
            " [  0   0   0   0   0  37   0   0   0   0   0  71   0   0   0   0   0]\n",
            " [  0   0   0   0   0  52   0   0   0   0   0  74   0   0   0   0   0]\n",
            " [  0   0   0   0   0   0   0   0   0   0   0   0   0 105   0   0   0]\n",
            " [  0   0   0   0   0   0   0   0   0   0   0   0   0   0  92   0   0]\n",
            " [  0   0   0   0   0   0   0   0   0   0   0   0   0   0   0 106   0]\n",
            " [  0   0   0   0   0   0   0   0   0   0   0   0   0   0   0   0 106]]\n"
          ]
        }
      ],
      "execution_count": 55,
      "metadata": {
        "execution": {
          "iopub.execute_input": "2020-10-23T17:09:05.743015Z",
          "iopub.status.busy": "2020-10-23T17:09:05.742144Z",
          "iopub.status.idle": "2020-10-23T17:09:05.750772Z",
          "shell.execute_reply": "2020-10-23T17:09:05.749888Z"
        },
        "papermill": {
          "duration": 0.086916,
          "end_time": "2020-10-23T17:09:05.750951",
          "exception": false,
          "start_time": "2020-10-23T17:09:05.664035",
          "status": "completed"
        },
        "tags": []
      }
    },
    {
      "cell_type": "code",
      "source": [
        "cm_matrix = pd.DataFrame(data=cm)\n",
        "sns.heatmap(cm_matrix, annot=True, fmt='d', cmap='YlGnBu')\n",
        "plt.show()"
      ],
      "outputs": [
        {
          "output_type": "display_data",
          "data": {
            "image/png": "[encoded data removed]",
            "text/plain": "<Figure size 640x480 with 2 Axes>"
          },
          "metadata": {}
        }
      ],
      "execution_count": 56,
      "metadata": {
        "execution": {
          "iopub.execute_input": "2020-10-23T17:09:05.909949Z",
          "iopub.status.busy": "2020-10-23T17:09:05.907312Z",
          "iopub.status.idle": "2020-10-23T17:09:06.085991Z",
          "shell.execute_reply": "2020-10-23T17:09:06.085322Z"
        },
        "papermill": {
          "duration": 0.263486,
          "end_time": "2020-10-23T17:09:06.086132",
          "exception": false,
          "start_time": "2020-10-23T17:09:05.822646",
          "status": "completed"
        },
        "tags": []
      }
    },
    {
      "cell_type": "code",
      "source": [
        "from sklearn.metrics import classification_report\n",
        "\n",
        "print(classification_report(y_test, y_pred2))"
      ],
      "outputs": [
        {
          "output_type": "stream",
          "name": "stdout",
          "text": [
            "              precision    recall  f1-score   support\n",
            "\n",
            "           0       1.00      1.00      1.00       115\n",
            "           1       1.00      1.00      1.00       106\n",
            "           2       1.00      1.00      1.00       105\n",
            "           3       1.00      1.00      1.00       104\n",
            "           4       1.00      1.00      1.00       101\n",
            "           5       1.00      1.00      1.00       108\n",
            "           6       1.00      1.00      1.00       101\n",
            "           7       1.00      1.00      1.00       109\n",
            "           8       0.50      1.00      0.66       124\n",
            "           9       1.00      1.00      1.00       120\n",
            "          10       1.00      1.00      1.00       100\n",
            "          11       1.00      1.00      1.00       108\n",
            "          12       0.00      0.00      0.00       126\n",
            "          13       1.00      1.00      1.00       105\n",
            "          14       1.00      1.00      1.00        92\n",
            "          15       1.00      1.00      1.00       106\n",
            "          16       1.00      1.00      1.00       106\n",
            "\n",
            "    accuracy                           0.93      1836\n",
            "   macro avg       0.91      0.94      0.92      1836\n",
            "weighted avg       0.90      0.93      0.91      1836\n",
            "\n"
          ]
        },
        {
          "output_type": "stream",
          "name": "stderr",
          "text": [
            "D:\\anaconda3\\envs\\FinalYear\\lib\\site-packages\\sklearn\\metrics\\_classification.py:1318: UndefinedMetricWarning: Precision and F-score are ill-defined and being set to 0.0 in labels with no predicted samples. Use `zero_division` parameter to control this behavior.\n",
            "  _warn_prf(average, modifier, msg_start, len(result))\n",
            "D:\\anaconda3\\envs\\FinalYear\\lib\\site-packages\\sklearn\\metrics\\_classification.py:1318: UndefinedMetricWarning: Precision and F-score are ill-defined and being set to 0.0 in labels with no predicted samples. Use `zero_division` parameter to control this behavior.\n",
            "  _warn_prf(average, modifier, msg_start, len(result))\n",
            "D:\\anaconda3\\envs\\FinalYear\\lib\\site-packages\\sklearn\\metrics\\_classification.py:1318: UndefinedMetricWarning: Precision and F-score are ill-defined and being set to 0.0 in labels with no predicted samples. Use `zero_division` parameter to control this behavior.\n",
            "  _warn_prf(average, modifier, msg_start, len(result))\n"
          ]
        }
      ],
      "execution_count": 57,
      "metadata": {
        "execution": {
          "iopub.execute_input": "2020-10-23T17:09:06.236176Z",
          "iopub.status.busy": "2020-10-23T17:09:06.235334Z",
          "iopub.status.idle": "2020-10-23T17:09:06.246594Z",
          "shell.execute_reply": "2020-10-23T17:09:06.247188Z"
        },
        "papermill": {
          "duration": 0.089278,
          "end_time": "2020-10-23T17:09:06.247370",
          "exception": false,
          "start_time": "2020-10-23T17:09:06.158092",
          "status": "completed"
        },
        "tags": []
      }
    },
    {
      "cell_type": "markdown",
      "source": [
        "## Random Forest Classifier"
      ],
      "metadata": {
        "papermill": {
          "duration": 0.072428,
          "end_time": "2020-10-23T17:09:06.394518",
          "exception": false,
          "start_time": "2020-10-23T17:09:06.322090",
          "status": "completed"
        },
        "tags": []
      }
    },
    {
      "cell_type": "code",
      "source": [
        "from sklearn.ensemble import RandomForestClassifier\n",
        "model = RandomForestClassifier()\n",
        "model.fit(X_train, y_train) \n",
        "result = model.score(X_test, y_test)\n",
        "\n",
        "print('Model accuracy score: {0:0.4f}'. format(result))"
      ],
      "outputs": [
        {
          "output_type": "stream",
          "name": "stdout",
          "text": [
            "Model accuracy score: 1.0000\n"
          ]
        }
      ],
      "execution_count": 58,
      "metadata": {
        "execution": {
          "iopub.execute_input": "2020-10-23T17:09:06.585731Z",
          "iopub.status.busy": "2020-10-23T17:09:06.584898Z",
          "iopub.status.idle": "2020-10-23T17:09:06.911082Z",
          "shell.execute_reply": "2020-10-23T17:09:06.910363Z"
        },
        "papermill": {
          "duration": 0.414543,
          "end_time": "2020-10-23T17:09:06.911229",
          "exception": false,
          "start_time": "2020-10-23T17:09:06.496686",
          "status": "completed"
        },
        "tags": []
      }
    },
    {
      "cell_type": "code",
      "source": [
        "from sklearn.metrics import make_scorer, accuracy_score\n",
        "\n",
        "rfc = RandomForestClassifier()\n",
        "\n",
        "# Choose some parameter combinations to try\n",
        "parameters = {'n_estimators': [4, 6, 9], \n",
        "              'max_features': ['log2', 'sqrt','auto'], \n",
        "              'criterion': ['entropy', 'gini'],\n",
        "              'max_depth': [2, 3, 5, 10], \n",
        "              'min_samples_split': [2, 3, 5],\n",
        "              'min_samples_leaf': [1,5,8]\n",
        "             }\n",
        "\n",
        "# Run the grid search\n",
        "grid_obj = GridSearchCV(rfc, parameters)\n",
        "grid_obj = grid_obj.fit(X_train, y_train)\n",
        "\n",
        "# Set the clf to the best combination of parameters\n",
        "rfc = grid_obj.best_estimator_\n",
        "\n",
        "# Fit the best algorithm to the data\n",
        "rfc.fit(X_train, y_train)"
      ],
      "outputs": [
        {
          "output_type": "execute_result",
          "execution_count": 59,
          "data": {
            "text/plain": "RandomForestClassifier(criterion='entropy', max_depth=5, max_features='log2',\n                       min_samples_split=5, n_estimators=9)"
          },
          "metadata": {}
        }
      ],
      "execution_count": 59,
      "metadata": {
        "execution": {
          "iopub.execute_input": "2020-10-23T17:09:07.071422Z",
          "iopub.status.busy": "2020-10-23T17:09:07.067700Z",
          "iopub.status.idle": "2020-10-23T17:10:22.398022Z",
          "shell.execute_reply": "2020-10-23T17:10:22.398642Z"
        },
        "papermill": {
          "duration": 75.41415,
          "end_time": "2020-10-23T17:10:22.398820",
          "exception": false,
          "start_time": "2020-10-23T17:09:06.984670",
          "status": "completed"
        },
        "tags": []
      }
    },
    {
      "cell_type": "code",
      "source": [
        "y_pred4 = grid_clf_acc.predict(X_test)\n",
        "print('Model accuracy score: {0:0.4f}'. format(accuracy_score(y_test, y_pred4)))"
      ],
      "outputs": [
        {
          "output_type": "stream",
          "name": "stdout",
          "text": [
            "Model accuracy score: 0.8709\n"
          ]
        }
      ],
      "execution_count": 60,
      "metadata": {
        "execution": {
          "iopub.execute_input": "2020-10-23T17:10:22.568576Z",
          "iopub.status.busy": "2020-10-23T17:10:22.567418Z",
          "iopub.status.idle": "2020-10-23T17:10:22.575903Z",
          "shell.execute_reply": "2020-10-23T17:10:22.576746Z"
        },
        "papermill": {
          "duration": 0.104827,
          "end_time": "2020-10-23T17:10:22.576976",
          "exception": false,
          "start_time": "2020-10-23T17:10:22.472149",
          "status": "completed"
        },
        "tags": []
      }
    },
    {
      "cell_type": "code",
      "source": [
        "#Confusion matrix\n",
        "cm = confusion_matrix(y_test,y_pred4)\n",
        "print(cm)"
      ],
      "outputs": [
        {
          "output_type": "stream",
          "name": "stdout",
          "text": [
            "[[115   0   0   0   0   0   0   0   0   0   0   0   0   0   0   0   0]\n",
            " [  0 106   0   0   0   0   0   0   0   0   0   0   0   0   0   0   0]\n",
            " [  0   0 105   0   0   0   0   0   0   0   0   0   0   0   0   0   0]\n",
            " [  0   0   0 104   0   0   0   0   0   0   0   0   0   0   0   0   0]\n",
            " [  0   0   0   0 101   0   0   0   0   0   0   0   0   0   0   0   0]\n",
            " [  0   0   0   0   0  34   0   0   0   0   0  74   0   0   0   0   0]\n",
            " [  0   0   0   0   0   0 101   0   0   0   0   0   0   0   0   0   0]\n",
            " [  0   0   0   0   0   0   0 109   0   0   0   0   0   0   0   0   0]\n",
            " [  0   0   0   0   0   0   0   0 124   0   0   0   0   0   0   0   0]\n",
            " [  0   0   0   0   0   0   0   0   0 120   0   0   0   0   0   0   0]\n",
            " [  0   0   0   0   0   0   0   0   0   0 100   0   0   0   0   0   0]\n",
            " [  0   0   0   0   0  37   0   0   0   0   0  71   0   0   0   0   0]\n",
            " [  0   0   0   0   0  52   0   0   0   0   0  74   0   0   0   0   0]\n",
            " [  0   0   0   0   0   0   0   0   0   0   0   0   0 105   0   0   0]\n",
            " [  0   0   0   0   0   0   0   0   0   0   0   0   0   0  92   0   0]\n",
            " [  0   0   0   0   0   0   0   0   0   0   0   0   0   0   0 106   0]\n",
            " [  0   0   0   0   0   0   0   0   0   0   0   0   0   0   0   0 106]]\n"
          ]
        }
      ],
      "execution_count": 62,
      "metadata": {}
    },
    {
      "cell_type": "code",
      "source": [
        "cm_matrix = pd.DataFrame(data=cm)\n",
        "sns.heatmap(cm_matrix, annot=True, fmt='d', cmap='YlGnBu')\n",
        "plt.show()"
      ],
      "outputs": [
        {
          "output_type": "display_data",
          "data": {
            "image/png": "[encoded data removed]",
            "text/plain": "<Figure size 640x480 with 2 Axes>"
          },
          "metadata": {}
        }
      ],
      "execution_count": 63,
      "metadata": {}
    },
    {
      "cell_type": "code",
      "source": [
        "from sklearn.metrics import classification_report\n",
        "\n",
        "print(classification_report(y_test, y_pred4))"
      ],
      "outputs": [
        {
          "output_type": "stream",
          "name": "stdout",
          "text": [
            "              precision    recall  f1-score   support\n",
            "\n",
            "           0       1.00      1.00      1.00       115\n",
            "           1       1.00      1.00      1.00       106\n",
            "           2       1.00      1.00      1.00       105\n",
            "           3       1.00      1.00      1.00       104\n",
            "           4       1.00      1.00      1.00       101\n",
            "           5       0.28      0.31      0.29       108\n",
            "           6       1.00      1.00      1.00       101\n",
            "           7       1.00      1.00      1.00       109\n",
            "           8       1.00      1.00      1.00       124\n",
            "           9       1.00      1.00      1.00       120\n",
            "          10       1.00      1.00      1.00       100\n",
            "          11       0.32      0.66      0.43       108\n",
            "          12       0.00      0.00      0.00       126\n",
            "          13       1.00      1.00      1.00       105\n",
            "          14       1.00      1.00      1.00        92\n",
            "          15       1.00      1.00      1.00       106\n",
            "          16       1.00      1.00      1.00       106\n",
            "\n",
            "    accuracy                           0.87      1836\n",
            "   macro avg       0.86      0.88      0.87      1836\n",
            "weighted avg       0.85      0.87      0.86      1836\n",
            "\n"
          ]
        },
        {
          "output_type": "stream",
          "name": "stderr",
          "text": [
            "D:\\anaconda3\\envs\\FinalYear\\lib\\site-packages\\sklearn\\metrics\\_classification.py:1318: UndefinedMetricWarning: Precision and F-score are ill-defined and being set to 0.0 in labels with no predicted samples. Use `zero_division` parameter to control this behavior.\n",
            "  _warn_prf(average, modifier, msg_start, len(result))\n",
            "D:\\anaconda3\\envs\\FinalYear\\lib\\site-packages\\sklearn\\metrics\\_classification.py:1318: UndefinedMetricWarning: Precision and F-score are ill-defined and being set to 0.0 in labels with no predicted samples. Use `zero_division` parameter to control this behavior.\n",
            "  _warn_prf(average, modifier, msg_start, len(result))\n",
            "D:\\anaconda3\\envs\\FinalYear\\lib\\site-packages\\sklearn\\metrics\\_classification.py:1318: UndefinedMetricWarning: Precision and F-score are ill-defined and being set to 0.0 in labels with no predicted samples. Use `zero_division` parameter to control this behavior.\n",
            "  _warn_prf(average, modifier, msg_start, len(result))\n"
          ]
        }
      ],
      "execution_count": 64,
      "metadata": {}
    },
    {
      "cell_type": "markdown",
      "source": [
        "# KNN"
      ],
      "metadata": {}
    },
    {
      "cell_type": "code",
      "source": [
        "from sklearn.neighbors import KNeighborsClassifier\n",
        "from sklearn import metrics\n",
        "model = KNeighborsClassifier(n_neighbors=7)\n",
        "model.fit(X_train, y_train) \n",
        "result = model.score(X_test, y_test)\n",
        "\n",
        "print('Model accuracy score: {0:0.4f}'. format(result))"
      ],
      "outputs": [
        {
          "output_type": "stream",
          "name": "stdout",
          "text": [
            "Model accuracy score: 0.9232\n"
          ]
        }
      ],
      "execution_count": 71,
      "metadata": {}
    },
    {
      "cell_type": "code",
      "source": [
        "from sklearn.metrics import accuracy_score\n",
        "print('Model accuracy score: {0:0.4f}'. format(accuracy_score(y_test, y_pred)))"
      ],
      "outputs": [
        {
          "output_type": "stream",
          "name": "stdout",
          "text": [
            "Model accuracy score: 0.9183\n"
          ]
        }
      ],
      "execution_count": 73,
      "metadata": {}
    },
    {
      "cell_type": "code",
      "source": [
        "from sklearn.metrics import classification_report\n",
        "\n",
        "print(classification_report(y_test, y_pred))"
      ],
      "outputs": [
        {
          "output_type": "stream",
          "name": "stdout",
          "text": [
            "              precision    recall  f1-score   support\n",
            "\n",
            "           0       0.60      0.98      0.75       115\n",
            "           1       0.71      0.89      0.79       106\n",
            "           2       0.83      0.95      0.88       105\n",
            "           3       0.93      0.86      0.89       104\n",
            "           4       0.98      0.95      0.96       101\n",
            "           5       0.99      0.97      0.98       108\n",
            "           6       1.00      0.93      0.96       101\n",
            "           7       0.99      0.88      0.93       109\n",
            "           8       1.00      0.94      0.97       124\n",
            "           9       0.98      0.91      0.94       120\n",
            "          10       1.00      0.92      0.96       100\n",
            "          11       1.00      0.91      0.95       108\n",
            "          12       1.00      0.89      0.94       126\n",
            "          13       0.99      0.90      0.95       105\n",
            "          14       0.98      0.91      0.94        92\n",
            "          15       1.00      0.89      0.94       106\n",
            "          16       1.00      0.92      0.96       106\n",
            "\n",
            "    accuracy                           0.92      1836\n",
            "   macro avg       0.94      0.92      0.92      1836\n",
            "weighted avg       0.94      0.92      0.92      1836\n",
            "\n"
          ]
        }
      ],
      "execution_count": 74,
      "metadata": {}
    },
    {
      "cell_type": "markdown",
      "source": [
        "# SVM"
      ],
      "metadata": {}
    },
    {
      "cell_type": "code",
      "source": [
        "from sklearn.svm import SVC\n",
        "from sklearn import metrics\n",
        "model1 = SVC()\n",
        "model1.fit(X_train, y_train) \n",
        "result = model1.score(X_test, y_test)\n",
        "\n",
        "print('Model accuracy score: {0:0.4f}'. format(result))"
      ],
      "outputs": [
        {
          "output_type": "stream",
          "name": "stdout",
          "text": [
            "Model accuracy score: 0.9918\n"
          ]
        }
      ],
      "execution_count": 83,
      "metadata": {}
    },
    {
      "cell_type": "code",
      "source": [
        "linear_svc=SVC(kernel='linear', C=1.0) \n",
        "\n",
        "\n",
        "# fit classifier to training set\n",
        "linear_svc.fit(X_train,y_train)\n",
        "\n",
        "\n",
        "# make predictions on test set\n",
        "y_pred_test=linear_svc.predict(X_test)\n",
        "\n",
        "\n",
        "# compute and print accuracy score\n",
        "print('Model accuracy score with linear kernel and C=1.0 : {0:0.4f}'. format(accuracy_score(y_test, y_pred_test)))"
      ],
      "outputs": [
        {
          "output_type": "stream",
          "name": "stdout",
          "text": [
            "Model accuracy score with linear kernel and C=1.0 : 1.0000\n"
          ]
        }
      ],
      "execution_count": 84,
      "metadata": {}
    },
    {
      "cell_type": "code",
      "source": [
        "# Run SVM with polynomial kernel and C=1.0\n",
        "# instantiate classifier with polynomial kernel and C=1.0\n",
        "poly_svc=SVC(kernel='poly', C=1.0) \n",
        "\n",
        "\n",
        "# fit classifier to training set\n",
        "poly_svc.fit(X_train,y_train)\n",
        "\n",
        "\n",
        "# make predictions on test set\n",
        "y_pred=poly_svc.predict(X_test)\n",
        "\n",
        "\n",
        "# compute and print accuracy score\n",
        "print('Model accuracy score with polynomial kernel and C=1.0 : {0:0.4f}'. format(accuracy_score(y_test, y_pred)))"
      ],
      "outputs": [
        {
          "output_type": "stream",
          "name": "stdout",
          "text": [
            "Model accuracy score with polynomial kernel and C=1.0 : 0.9995\n"
          ]
        }
      ],
      "execution_count": 85,
      "metadata": {}
    },
    {
      "cell_type": "code",
      "source": [],
      "outputs": [],
      "execution_count": null,
      "metadata": {}
    }
  ],
  "metadata": {
    "kernelspec": {
      "display_name": "Python [conda env:FinalYear]",
      "language": "python",
      "name": "conda-env-FinalYear-py"
    },
    "language_info": {
      "codemirror_mode": {
        "name": "ipython",
        "version": 3
      },
      "file_extension": ".py",
      "mimetype": "text/x-python",
      "name": "python",
      "nbconvert_exporter": "python",
      "pygments_lexer": "ipython3",
      "version": "3.7.13"
    },
    "papermill": {
      "output_path": "__notebook__.ipynb",
      "start_time": "2020-10-23T17:08:47.369033",
      "parameters": {},
      "environment_variables": {},
      "exception": null,
      "end_time": "2020-10-23T17:10:24.264763",
      "duration": 96.89573,
      "version": "2.1.0",
      "input_path": "__notebook__.ipynb"
    },
    "nteract": {
      "version": "0.28.0"
    }
  },
  "nbformat": 4,
  "nbformat_minor": 4
}