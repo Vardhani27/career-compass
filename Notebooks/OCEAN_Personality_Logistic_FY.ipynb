{
 "cells": [
  {
   "cell_type": "code",
   "execution_count": 2,
   "metadata": {},
   "outputs": [],
   "source": [
    "import pandas as pd\n",
    "from numpy import *\n",
    "import numpy as np\n",
    "from sklearn import preprocessing\n",
    "from sklearn import datasets, linear_model\n",
    "from sklearn.metrics import mean_squared_error, r2_score\n",
    "from sklearn import metrics\n",
    "from sklearn.cross_validation import train_test_split\n",
    "from sklearn.model_selection import train_test_split\n",
    "from sklearn import neighbors"
   ]
  },
  {
   "cell_type": "code",
   "execution_count": 3,
   "metadata": {},
   "outputs": [],
   "source": [
    "data =pd.read_csv('train.csv')\n",
    "array = data.values\n",
    "\n",
    "for i in range(len(array)):\n",
    "    if array[i][0]==\"Male\":\n",
    "        array[i][0]=1\n",
    "    else:\n",
    "        array[i][0]=0\n",
    "\n",
    "\n",
    "df=pd.DataFrame(array)\n",
    "\n"
   ]
  },
  {
   "cell_type": "code",
   "execution_count": 4,
   "metadata": {},
   "outputs": [
    {
     "name": "stdout",
     "output_type": "stream",
     "text": [
      "[[1 17 7 ... 7 3 2]\n",
      " [1 19 4 ... 4 6 6]\n",
      " [0 18 7 ... 4 5 5]\n",
      " ...\n",
      " [1 22 5 ... 3 6 1]\n",
      " [1 19 5 ... 5 7 5]\n",
      " [0 18 5 ... 7 6 5]]\n"
     ]
    }
   ],
   "source": [
    "maindf =df[[0,1,2,3,4,5,6]]\n",
    "mainarray=maindf.values\n",
    "print (mainarray)\n",
    "\n",
    "\n",
    "temp=df[7]\n",
    "train_y =temp.values\n",
    "# print(train_y)\n",
    "# print(mainarray)\n",
    "train_y=temp.values\n",
    "\n",
    "for i in range(len(train_y)):\n",
    "\ttrain_y[i] =str(train_y[i])\n",
    "\n",
    "\n",
    "\n"
   ]
  },
  {
   "cell_type": "code",
   "execution_count": 5,
   "metadata": {},
   "outputs": [],
   "source": [
    "mul_lr = linear_model.LogisticRegression(multi_class='multinomial', solver='newton-cg',max_iter =1000)\n",
    "mul_lr.fit(mainarray, train_y)\n",
    "\n",
    "testdata =pd.read_csv('test.csv')\n",
    "test = testdata.values\n",
    "\n",
    "for i in range(len(test)):\n",
    "\tif test[i][0]==\"Male\":\n",
    "\t\ttest[i][0]=1\n",
    "\telse:\n",
    "\t\ttest[i][0]=0\n",
    "\n",
    "\n"
   ]
  },
  {
   "cell_type": "code",
   "execution_count": 6,
   "metadata": {},
   "outputs": [
    {
     "name": "stdout",
     "output_type": "stream",
     "text": [
      "[[0 20 7 ... 9 5 5]\n",
      " [1 17 5 ... 5 2 4]\n",
      " [0 25 5 ... 7 2 4]\n",
      " ...\n",
      " [1 18 7 ... 6 2 7]\n",
      " [1 23 6 ... 5 4 3]\n",
      " [0 18 5 ... 3 5 6]]\n"
     ]
    }
   ],
   "source": [
    "df1=pd.DataFrame(test)\n",
    "\n",
    "testdf =df1[[0,1,2,3,4,5,6]]\n",
    "maintestarray=testdf.values\n",
    "print(maintestarray)\n",
    "\n"
   ]
  },
  {
   "cell_type": "code",
   "execution_count": 7,
   "metadata": {},
   "outputs": [],
   "source": [
    "y_pred = mul_lr.predict(maintestarray)\n",
    "for i in range(len(y_pred)) :\n",
    "\ty_pred[i]=str((y_pred[i]))\n",
    "DF = pd.DataFrame(y_pred,columns=['Predicted Personality'])\n",
    "DF.index=DF.index+1\n",
    "DF.index.names = ['Person No']\n",
    "DF.to_csv(\"output.csv\")\n",
    "\n"
   ]
  },
  {
   "cell_type": "code",
   "execution_count": 8,
   "metadata": {},
   "outputs": [
    {
     "name": "stdout",
     "output_type": "stream",
     "text": [
      "0       dependable\n",
      "1          serious\n",
      "2          serious\n",
      "3          serious\n",
      "4      responsible\n",
      "          ...     \n",
      "344    extraverted\n",
      "345        serious\n",
      "346        serious\n",
      "347    extraverted\n",
      "348    extraverted\n",
      "Name: Predicted Personality, Length: 349, dtype: object\n",
      "Prediction accuracy of test data : \n",
      "87.11%\n",
      "\n"
     ]
    }
   ],
   "source": [
    "outputdata =pd.read_csv('output.csv')\n",
    "output = outputdata.values\n",
    "print(outputdata['Predicted Personality'])\n",
    "outputdata.drop(outputdata.columns[:1], axis=1, inplace=True)\n",
    "#print(type(outputdata))\n",
    "testdata.drop(testdata.columns[:7], axis=1, inplace=True)\n",
    "#print(type(testdata))\n",
    "\n",
    "print('Prediction accuracy of test data : ')\n",
    "print('{:.2%}\\n'.format(metrics.accuracy_score(testdata, outputdata)))"
   ]
  },
  {
   "cell_type": "code",
   "execution_count": 13,
   "metadata": {},
   "outputs": [],
   "source": [
    "import pickle\n",
    "#Create Pickle File\n",
    "pd.to_pickle(mul_lr, r'C:\\Users\\R.K.PATI\\Desktop\\Rajashree\\Final Project\\model1.pickle')\n",
    "mul_lr = pd.read_pickle(r'C:\\Users\\R.K.PATI\\Desktop\\Rajashree\\Final Project\\model1.pickle')\n"
   ]
  },
  {
   "cell_type": "code",
   "execution_count": 14,
   "metadata": {},
   "outputs": [
    {
     "name": "stdout",
     "output_type": "stream",
     "text": [
      "Enter your gender(Male:1,Female:0):0\n",
      "Enter your age(17-28) : 22\n",
      "I am the life of the party: 4\n",
      "I don't talk a lot:  4\n",
      "I feel comfortable around people:  4\n",
      "I am quiet around strangers:  4\n",
      "I get stressed out easily:  4\n",
      "I get irritated easily:  4\n",
      "I worry about things:  4\n",
      "I change my mood a lot:  4\n",
      "I have a soft heart:  4\n",
      "I am interested in people:  4\n",
      "I insult people:  4\n",
      "I am not really interested in others:  4\n",
      "I am always prepared:  4\n",
      "I leave my belongings around:  4\n",
      "I follow a schedule:  4\n",
      "I make a mess of things:  4\n",
      "I have a rich vocabulary:  4\n",
      "I have difficulty understanding abstract ideas:  4\n",
      "I do not have a good imagination:  4\n",
      "I use difficult words:  4\n"
     ]
    }
   ],
   "source": [
    "\n",
    "gender1 = int(input(\"Enter your gender(Male:1,Female:0):\"))\n",
    "age = int(input(\"Enter your age(17-28) : \"))\n",
    "EXT1 = int(input(\"I am the life of the party: \"))\n",
    "EXT2 = int(input(\"I don't talk a lot:  \"))\n",
    "EXT3 = int(input(\"I feel comfortable around people:  \"))\n",
    "EXT4 = int(input(\"I am quiet around strangers:  \"))\n",
    "\n",
    "EST1 = int(input(\"I get stressed out easily:  \"))\n",
    "EST2 = int(input(\"I get irritated easily:  \"))\n",
    "EST3 = int(input(\"I worry about things:  \"))\n",
    "EST4 = int(input(\"I change my mood a lot:  \"))\n",
    "\n",
    "AGR1 = int(input(\"I have a soft heart:  \"))\n",
    "AGR2 = int(input(\"I am interested in people:  \"))\n",
    "AGR3 = int(input(\"I insult people:  \"))\n",
    "AGR4 = int(input(\"I am not really interested in others:  \"))\n",
    "\n",
    "CSN1 = int(input(\"I am always prepared:  \"))\n",
    "CSN2 = int(input(\"I leave my belongings around:  \"))\n",
    "CSN3 = int(input(\"I follow a schedule:  \"))\n",
    "CSN4 = int(input(\"I make a mess of things:  \"))\n",
    "\n",
    "OPN1 = int(input(\"I have a rich vocabulary:  \"))\n",
    "OPN2 = int(input(\"I have difficulty understanding abstract ideas:  \"))\n",
    "OPN3 = int(input(\"I do not have a good imagination:  \"))\n",
    "OPN4 = int(input(\"I use difficult words:  \"))\n",
    "\n"
   ]
  },
  {
   "cell_type": "code",
   "execution_count": 16,
   "metadata": {},
   "outputs": [],
   "source": [
    "extraversion = 0\n",
    "neuroticism = 0\n",
    "agreeableness = 0\n",
    "conscientiousness = 0\n",
    "openness = 0\n",
    "extraversion = (EXT1 + EXT2 + EXT3 + EXT4)/2.50\n",
    "neuroticism = (EST1 + EST2 + EST3 + EST4)/2.50\n",
    "agreeableness = (AGR1 + AGR2 + AGR3 + AGR4)/2.50\n",
    "conscientiousness = (CSN1 + CSN2 + CSN3 + CSN4)/2.50\n",
    "openness = (OPN1 + OPN2 + OPN3 + OPN4)/2.50\n",
    "def roundfigure(a):\n",
    "    x = int(a)\n",
    "    y = x+1\n",
    "    z = float((x+y)/2)\n",
    "    print(x,y,z)\n",
    "    import math\n",
    "    if(a<z):\n",
    "        n = math.floor(a)\n",
    "    else:\n",
    "        n = math.ceil(a)\n",
    "    return n\n",
    "\n"
   ]
  },
  {
   "cell_type": "code",
   "execution_count": 19,
   "metadata": {},
   "outputs": [
    {
     "name": "stdout",
     "output_type": "stream",
     "text": [
      "6 7 6.5\n",
      "6 7 6.5\n",
      "6 7 6.5\n",
      "6 7 6.5\n",
      "6 7 6.5\n",
      "6.4 6.4 6.4 6.4 6.4\n",
      "6 6 6 6 6\n"
     ]
    }
   ],
   "source": [
    "ext = roundfigure(extraversion)\n",
    "est = roundfigure(neuroticism)\n",
    "agre = roundfigure(agreeableness)\n",
    "csn = roundfigure(conscientiousness)\n",
    "opn = roundfigure(openness)\n",
    "print(extraversion,neuroticism,agreeableness,conscientiousness,openness)\n",
    "print(ext,est,agre,csn,opn)\n",
    "\n"
   ]
  },
  {
   "cell_type": "code",
   "execution_count": 20,
   "metadata": {},
   "outputs": [
    {
     "name": "stdout",
     "output_type": "stream",
     "text": [
      "['extraverted']\n"
     ]
    }
   ],
   "source": [
    "import numpy as np\n",
    "xyze = np.array([gender1,age,opn,est,csn,agre,ext])\n",
    "result = mul_lr.predict([xyze])\n",
    "print(result)"
   ]
  },
  {
   "cell_type": "code",
   "execution_count": 21,
   "metadata": {},
   "outputs": [],
   "source": [
    "from sklearn import metrics\n",
    "\n"
   ]
  },
  {
   "cell_type": "code",
   "execution_count": null,
   "metadata": {},
   "outputs": [],
   "source": []
  }
 ],
 "metadata": {
  "kernelspec": {
   "display_name": "Python 3",
   "language": "python",
   "name": "python3"
  },
  "language_info": {
   "codemirror_mode": {
    "name": "ipython",
    "version": 3
   },
   "file_extension": ".py",
   "mimetype": "text/x-python",
   "name": "python",
   "nbconvert_exporter": "python",
   "pygments_lexer": "ipython3",
   "version": "3.7.6"
  }
 },
 "nbformat": 4,
 "nbformat_minor": 4
}
